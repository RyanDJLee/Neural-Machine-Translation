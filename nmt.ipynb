{
  "nbformat": 4,
  "nbformat_minor": 0,
  "metadata": {
    "colab": {
      "name": "nmt.ipynb",
      "version": "0.3.2",
      "provenance": [],
      "collapsed_sections": [
        "s9IS9B9-yUU5",
        "pbvpn4MaV0I1",
        "bRWfRdmVVjUl",
        "_BAfi_8yWB3y",
        "-JBVFLEZWNC1",
        "tWe0RO5FWajD",
        "kiUwiOITHTW4",
        "hmQmyJDSRFKR",
        "7cP7nl5NRJbu",
        "duLjjEyrbbSg",
        "X8FaZZUWRpY9"
      ],
      "toc_visible": true,
      "include_colab_link": true
    },
    "kernelspec": {
      "name": "python2",
      "display_name": "Python 2"
    },
    "accelerator": "GPU"
  },
  "cells": [
    {
      "cell_type": "markdown",
      "metadata": {
        "id": "view-in-github",
        "colab_type": "text"
      },
      "source": [
        "<a href=\"https://colab.research.google.com/github/RyanDJLee/Neural-Machine-Translation/blob/master/nmt.ipynb\" target=\"_parent\"><img src=\"https://colab.research.google.com/assets/colab-badge.svg\" alt=\"Open In Colab\"/></a>"
      ]
    },
    {
      "metadata": {
        "id": "TjPTaRB4mpCd",
        "colab_type": "text"
      },
      "cell_type": "markdown",
      "source": [
        "# Colab FAQ\n",
        "\n",
        "For some basic overview and features offered in Colab notebooks, check out: [Overview of Colaboratory Features](https://colab.research.google.com/notebooks/basic_features_overview.ipynb)\n",
        "\n",
        "You need to use the colab GPU for this assignmentby selecting:\n",
        "\n",
        "> **Runtime**   →   **Change runtime type**   →   **Hardware Accelerator: GPU**"
      ]
    },
    {
      "metadata": {
        "id": "s9IS9B9-yUU5",
        "colab_type": "text"
      },
      "cell_type": "markdown",
      "source": [
        "## Setup PyTorch\n",
        "All files are stored at /content/csc421/a3/ folder\n"
      ]
    },
    {
      "metadata": {
        "id": "Z-6MQhMOlHXD",
        "colab_type": "code",
        "outputId": "ea5edf75-d43a-4b39-f841-77d4bd38f322",
        "colab": {
          "base_uri": "https://localhost:8080/",
          "height": 673
        }
      },
      "cell_type": "code",
      "source": [
        "######################################################################\n",
        "# Setup python environment and change the current working directory\n",
        "######################################################################\n",
        "!pip install torch torchvision\n",
        "!pip install Pillow==4.0.0\n",
        "%mkdir -p /content/csc421/a3/\n",
        "%cd /content/csc421/a3"
      ],
      "execution_count": 0,
      "outputs": [
        {
          "output_type": "stream",
          "text": [
            "Requirement already satisfied: torch in /usr/local/lib/python2.7/dist-packages (1.0.1.post2)\n",
            "Requirement already satisfied: torchvision in /usr/local/lib/python2.7/dist-packages (0.2.2.post3)\n",
            "Requirement already satisfied: six in /usr/local/lib/python2.7/dist-packages (from torchvision) (1.11.0)\n",
            "Requirement already satisfied: numpy in /usr/local/lib/python2.7/dist-packages (from torchvision) (1.14.6)\n",
            "Collecting pillow>=4.1.1 (from torchvision)\n",
            "\u001b[?25l  Downloading https://files.pythonhosted.org/packages/0d/f3/421598450cb9503f4565d936860763b5af413a61009d87a5ab1e34139672/Pillow-5.4.1-cp27-cp27mu-manylinux1_x86_64.whl (2.0MB)\n",
            "\u001b[K    100% |████████████████████████████████| 2.0MB 8.0MB/s \n",
            "\u001b[31mfastai 0.7.0 has requirement torch<0.4, but you'll have torch 1.0.1.post2 which is incompatible.\u001b[0m\n",
            "\u001b[31mimgaug 0.2.8 has requirement numpy>=1.15.0, but you'll have numpy 1.14.6 which is incompatible.\u001b[0m\n",
            "\u001b[?25hInstalling collected packages: pillow\n",
            "  Found existing installation: Pillow 4.0.0\n",
            "    Uninstalling Pillow-4.0.0:\n",
            "      Successfully uninstalled Pillow-4.0.0\n",
            "Successfully installed pillow-5.4.1\n"
          ],
          "name": "stdout"
        },
        {
          "output_type": "display_data",
          "data": {
            "application/vnd.colab-display-data+json": {
              "pip_warning": {
                "packages": [
                  "PIL"
                ]
              }
            }
          },
          "metadata": {
            "tags": []
          }
        },
        {
          "output_type": "stream",
          "text": [
            "Collecting Pillow==4.0.0\n",
            "  Using cached https://files.pythonhosted.org/packages/89/99/0e3522a9764fe371bf9f7729404b1ef7d9c4fc49cbe5f1761c6e07812345/Pillow-4.0.0-cp27-cp27mu-manylinux1_x86_64.whl\n",
            "Requirement already satisfied: olefile in /usr/local/lib/python2.7/dist-packages (from Pillow==4.0.0) (0.46)\n",
            "\u001b[31mfastai 0.7.0 has requirement torch<0.4, but you'll have torch 1.0.1.post2 which is incompatible.\u001b[0m\n",
            "\u001b[31mimgaug 0.2.8 has requirement numpy>=1.15.0, but you'll have numpy 1.14.6 which is incompatible.\u001b[0m\n",
            "\u001b[31mtorchvision 0.2.2.post3 has requirement pillow>=4.1.1, but you'll have pillow 4.0.0 which is incompatible.\u001b[0m\n",
            "Installing collected packages: Pillow\n",
            "  Found existing installation: Pillow 5.4.1\n",
            "    Uninstalling Pillow-5.4.1:\n",
            "      Successfully uninstalled Pillow-5.4.1\n",
            "Successfully installed Pillow-4.0.0\n"
          ],
          "name": "stdout"
        },
        {
          "output_type": "display_data",
          "data": {
            "application/vnd.colab-display-data+json": {
              "pip_warning": {
                "packages": [
                  "PIL"
                ]
              }
            }
          },
          "metadata": {
            "tags": []
          }
        },
        {
          "output_type": "stream",
          "text": [
            "/content/csc421/a3\n"
          ],
          "name": "stdout"
        }
      ]
    },
    {
      "metadata": {
        "id": "9DaTdRNuUra7",
        "colab_type": "text"
      },
      "cell_type": "markdown",
      "source": [
        "# Helper code"
      ]
    },
    {
      "metadata": {
        "id": "4BIpGwANoQOg",
        "colab_type": "text"
      },
      "cell_type": "markdown",
      "source": [
        "## Utility functions"
      ]
    },
    {
      "metadata": {
        "id": "D-UJHBYZkh7f",
        "colab_type": "code",
        "colab": {}
      },
      "cell_type": "code",
      "source": [
        "import os\n",
        "import pdb\n",
        "import argparse\n",
        "import pickle as pkl\n",
        "\n",
        "from collections import defaultdict\n",
        "\n",
        "import numpy as np\n",
        "import matplotlib as mpl\n",
        "import matplotlib.pyplot as plt\n",
        "import matplotlib.ticker as ticker\n",
        "\n",
        "import torch\n",
        "import torch.nn as nn\n",
        "import torch.optim as optim\n",
        "import torch.nn.functional as F\n",
        "from torch.autograd import Variable\n",
        "\n",
        "from six.moves.urllib.request import urlretrieve\n",
        "import tarfile\n",
        "import pickle\n",
        "import sys\n",
        "\n",
        "\n",
        "def get_file(fname,\n",
        "             origin,\n",
        "             untar=False,\n",
        "             extract=False,\n",
        "             archive_format='auto',\n",
        "             cache_dir='data'):\n",
        "    datadir = os.path.join(cache_dir)\n",
        "    if not os.path.exists(datadir):\n",
        "        os.makedirs(datadir)\n",
        "\n",
        "    if untar:\n",
        "        untar_fpath = os.path.join(datadir, fname)\n",
        "        fpath = untar_fpath + '.tar.gz'\n",
        "    else:\n",
        "        fpath = os.path.join(datadir, fname)\n",
        "    \n",
        "    print(fpath)\n",
        "    if not os.path.exists(fpath):\n",
        "        print('Downloading data from', origin)\n",
        "\n",
        "        error_msg = 'URL fetch failure on {}: {} -- {}'\n",
        "        try:\n",
        "            try:\n",
        "                urlretrieve(origin, fpath)\n",
        "            except URLError as e:\n",
        "                raise Exception(error_msg.format(origin, e.errno, e.reason))\n",
        "            except HTTPError as e:\n",
        "                raise Exception(error_msg.format(origin, e.code, e.msg))\n",
        "        except (Exception, KeyboardInterrupt) as e:\n",
        "            if os.path.exists(fpath):\n",
        "                os.remove(fpath)\n",
        "            raise\n",
        "\n",
        "    if untar:\n",
        "        if not os.path.exists(untar_fpath):\n",
        "            print('Extracting file.')\n",
        "            with tarfile.open(fpath) as archive:\n",
        "                archive.extractall(datadir)\n",
        "        return untar_fpath\n",
        "\n",
        "    if extract:\n",
        "        _extract_archive(fpath, datadir, archive_format)\n",
        "\n",
        "    return fpath\n",
        "\n",
        "class AttrDict(dict):\n",
        "    def __init__(self, *args, **kwargs):\n",
        "        super(AttrDict, self).__init__(*args, **kwargs)\n",
        "        self.__dict__ = self\n",
        "        \n",
        "def to_var(tensor, cuda):\n",
        "    \"\"\"Wraps a Tensor in a Variable, optionally placing it on the GPU.\n",
        "\n",
        "        Arguments:\n",
        "            tensor: A Tensor object.\n",
        "            cuda: A boolean flag indicating whether to use the GPU.\n",
        "\n",
        "        Returns:\n",
        "            A Variable object, on the GPU if cuda==True.\n",
        "    \"\"\"\n",
        "    if cuda:\n",
        "        return Variable(tensor.cuda())\n",
        "    else:\n",
        "        return Variable(tensor)\n",
        "\n",
        "\n",
        "def create_dir_if_not_exists(directory):\n",
        "    \"\"\"Creates a directory if it doesn't already exist.\n",
        "    \"\"\"\n",
        "    if not os.path.exists(directory):\n",
        "        os.makedirs(directory)\n",
        "\n",
        "\n",
        "def save_loss_plot(train_losses, val_losses, opts):\n",
        "    \"\"\"Saves a plot of the training and validation loss curves.\n",
        "    \"\"\"\n",
        "    plt.figure()\n",
        "    plt.plot(range(len(train_losses)), train_losses)\n",
        "    plt.plot(range(len(val_losses)), val_losses)\n",
        "    plt.title('BS={}, nhid={}'.format(opts.batch_size, opts.hidden_size), fontsize=20)\n",
        "    plt.xlabel('Epochs', fontsize=16)\n",
        "    plt.ylabel('Loss', fontsize=16)\n",
        "    plt.xticks(fontsize=14)\n",
        "    plt.yticks(fontsize=14)\n",
        "    plt.tight_layout()\n",
        "    plt.savefig(os.path.join(opts.checkpoint_path, 'loss_plot.pdf'))\n",
        "    plt.close()\n",
        "\n",
        "\n",
        "def checkpoint(encoder, decoder, idx_dict, opts):\n",
        "    \"\"\"Saves the current encoder and decoder models, along with idx_dict, which\n",
        "    contains the char_to_index and index_to_char mappings, and the start_token\n",
        "    and end_token values.\n",
        "    \"\"\"\n",
        "    with open(os.path.join(opts.checkpoint_path, 'encoder.pt'), 'wb') as f:\n",
        "        torch.save(encoder, f)\n",
        "\n",
        "    with open(os.path.join(opts.checkpoint_path, 'decoder.pt'), 'wb') as f:\n",
        "        torch.save(decoder, f)\n",
        "\n",
        "    with open(os.path.join(opts.checkpoint_path, 'idx_dict.pkl'), 'wb') as f:\n",
        "        pkl.dump(idx_dict, f)\n"
      ],
      "execution_count": 0,
      "outputs": []
    },
    {
      "metadata": {
        "id": "pbvpn4MaV0I1",
        "colab_type": "text"
      },
      "cell_type": "markdown",
      "source": [
        "## Data loader"
      ]
    },
    {
      "metadata": {
        "id": "XVT4TNTOV3Eg",
        "colab_type": "code",
        "colab": {}
      },
      "cell_type": "code",
      "source": [
        "def read_lines(filename):\n",
        "    \"\"\"Read a file and split it into lines.\n",
        "    \"\"\"\n",
        "    lines = open(filename).read().strip().lower().split('\\n')\n",
        "    return lines\n",
        "\n",
        "\n",
        "def read_pairs(filename):\n",
        "    \"\"\"Reads lines that consist of two words, separated by a space.\n",
        "\n",
        "    Returns:\n",
        "        source_words: A list of the first word in each line of the file.\n",
        "        target_words: A list of the second word in each line of the file.\n",
        "    \"\"\"\n",
        "    lines = read_lines(filename)\n",
        "    source_words, target_words = [], []\n",
        "    for line in lines:\n",
        "        line = line.strip()\n",
        "        if line:\n",
        "            source, target = line.split()\n",
        "            source_words.append(source)\n",
        "            target_words.append(target)\n",
        "    return source_words, target_words\n",
        "\n",
        "\n",
        "def all_alpha_or_dash(s):\n",
        "    \"\"\"Helper function to check whether a string is alphabetic, allowing dashes '-'.\n",
        "    \"\"\"\n",
        "    return all(c.isalpha() or c == '-' for c in s)\n",
        "\n",
        "\n",
        "def filter_lines(lines):\n",
        "    \"\"\"Filters lines to consist of only alphabetic characters or dashes \"-\".\n",
        "    \"\"\"\n",
        "    return [line for line in lines if all_alpha_or_dash(line)]\n",
        "\n",
        "\n",
        "def load_data():\n",
        "    \"\"\"Loads (English, Pig-Latin) word pairs, and creates mappings from characters to indexes.\n",
        "    \"\"\"\n",
        "\n",
        "    source_lines, target_lines = read_pairs('data/pig_latin_data.txt')\n",
        "\n",
        "    # Filter lines\n",
        "    source_lines = filter_lines(source_lines)\n",
        "    target_lines = filter_lines(target_lines)\n",
        "\n",
        "    all_characters = set(''.join(source_lines)) | set(''.join(target_lines))\n",
        "\n",
        "    # Create a dictionary mapping each character to a unique index\n",
        "    char_to_index = { char: index for (index, char) in enumerate(sorted(list(all_characters))) }\n",
        "\n",
        "    # Add start and end tokens to the dictionary\n",
        "    start_token = len(char_to_index)\n",
        "    end_token = len(char_to_index) + 1\n",
        "    char_to_index['SOS'] = start_token\n",
        "    char_to_index['EOS'] = end_token\n",
        "\n",
        "    # Create the inverse mapping, from indexes to characters (used to decode the model's predictions)\n",
        "    index_to_char = { index: char for (char, index) in char_to_index.items() }\n",
        "\n",
        "    # Store the final size of the vocabulary\n",
        "    vocab_size = len(char_to_index)\n",
        "\n",
        "    line_pairs = list(set(zip(source_lines, target_lines)))  # Python 3\n",
        "\n",
        "    idx_dict = { 'char_to_index': char_to_index,\n",
        "                 'index_to_char': index_to_char,\n",
        "                 'start_token': start_token,\n",
        "                 'end_token': end_token }\n",
        "\n",
        "    return line_pairs, vocab_size, idx_dict\n",
        "\n",
        "\n",
        "def create_dict(pairs):\n",
        "    \"\"\"Creates a mapping { (source_length, target_length): [list of (source, target) pairs]\n",
        "    This is used to make batches: each batch consists of two parallel tensors, one containing\n",
        "    all source indexes and the other containing all corresponding target indexes.\n",
        "    Within a batch, all the source words are the same length, and all the target words are\n",
        "    the same length.\n",
        "    \"\"\"\n",
        "    unique_pairs = list(set(pairs))  # Find all unique (source, target) pairs\n",
        "\n",
        "    d = defaultdict(list)\n",
        "    for (s,t) in unique_pairs:\n",
        "        d[(len(s), len(t))].append((s,t))\n",
        "\n",
        "    return d\n"
      ],
      "execution_count": 0,
      "outputs": []
    },
    {
      "metadata": {
        "id": "bRWfRdmVVjUl",
        "colab_type": "text"
      },
      "cell_type": "markdown",
      "source": [
        "## Training and evaluation code"
      ]
    },
    {
      "metadata": {
        "id": "wa5-onJhoSeM",
        "colab_type": "code",
        "colab": {}
      },
      "cell_type": "code",
      "source": [
        "def string_to_index_list(s, char_to_index, end_token):\n",
        "    \"\"\"Converts a sentence into a list of indexes (for each character).\n",
        "    \"\"\"\n",
        "    return [char_to_index[char] for char in s] + [end_token]  # Adds the end token to each index list\n",
        "\n",
        "\n",
        "def translate_sentence(sentence, encoder, decoder, idx_dict, opts):\n",
        "    \"\"\"Translates a sentence from English to Pig-Latin, by splitting the sentence into\n",
        "    words (whitespace-separated), running the encoder-decoder model to translate each\n",
        "    word independently, and then stitching the words back together with spaces between them.\n",
        "    \"\"\"\n",
        "    if idx_dict is None:\n",
        "      line_pairs, vocab_size, idx_dict = load_data()\n",
        "    return ' '.join([translate(word, encoder, decoder, idx_dict, opts) for word in sentence.split()])\n",
        "\n",
        "\n",
        "def translate(input_string, encoder, decoder, idx_dict, opts):\n",
        "    \"\"\"Translates a given string from English to Pig-Latin.\n",
        "    \"\"\"\n",
        "\n",
        "    char_to_index = idx_dict['char_to_index']\n",
        "    index_to_char = idx_dict['index_to_char']\n",
        "    start_token = idx_dict['start_token']\n",
        "    end_token = idx_dict['end_token']\n",
        "\n",
        "    max_generated_chars = 20\n",
        "    gen_string = ''\n",
        "\n",
        "    indexes = string_to_index_list(input_string, char_to_index, end_token)\n",
        "    indexes = to_var(torch.LongTensor(indexes).unsqueeze(0), opts.cuda)  # Unsqueeze to make it like BS = 1\n",
        "\n",
        "    encoder_annotations, encoder_last_hidden = encoder(indexes)\n",
        "\n",
        "    decoder_hidden = encoder_last_hidden\n",
        "    decoder_input = to_var(torch.LongTensor([[start_token]]), opts.cuda)  # For BS = 1\n",
        "    decoder_inputs = decoder_input\n",
        "\n",
        "    for i in range(max_generated_chars):\n",
        "      ## slow decoding, recompute everything at each time\n",
        "      decoder_outputs, attention_weights = decoder(decoder_inputs, encoder_annotations, decoder_hidden)\n",
        "      generated_words = F.softmax(decoder_outputs, dim=2).max(2)[1]\n",
        "      ni = generated_words.cpu().numpy().reshape(-1)  # LongTensor of size 1\n",
        "      ni = ni[-1] #latest output token\n",
        "\n",
        "      decoder_inputs = torch.cat([decoder_input, generated_words], dim=1)\n",
        "      \n",
        "      if ni == end_token:\n",
        "          break\n",
        "      else:\n",
        "          gen_string = \"\".join(\n",
        "              [index_to_char[int(item)] \n",
        "               for item in generated_words.cpu().numpy().reshape(-1)])\n",
        "\n",
        "    return gen_string\n",
        "\n",
        "\n",
        "def visualize_attention(input_string, encoder, decoder, idx_dict, opts):\n",
        "    \"\"\"Generates a heatmap to show where attention is focused in each decoder step.\n",
        "    \"\"\"\n",
        "    if idx_dict is None:\n",
        "      line_pairs, vocab_size, idx_dict = load_data()\n",
        "    char_to_index = idx_dict['char_to_index']\n",
        "    index_to_char = idx_dict['index_to_char']\n",
        "    start_token = idx_dict['start_token']\n",
        "    end_token = idx_dict['end_token']\n",
        "\n",
        "    max_generated_chars = 20\n",
        "    gen_string = ''\n",
        "\n",
        "    indexes = string_to_index_list(input_string, char_to_index, end_token)\n",
        "    indexes = to_var(torch.LongTensor(indexes).unsqueeze(0), opts.cuda)  # Unsqueeze to make it like BS = 1\n",
        "\n",
        "    encoder_annotations, encoder_hidden = encoder(indexes)\n",
        "\n",
        "    decoder_hidden = encoder_hidden\n",
        "    decoder_input = to_var(torch.LongTensor([[start_token]]), opts.cuda)  # For BS = 1\n",
        "    decoder_inputs = decoder_input\n",
        "\n",
        "    produced_end_token = False\n",
        "\n",
        "    for i in range(max_generated_chars):\n",
        "      ## slow decoding, recompute everything at each time\n",
        "      decoder_outputs, attention_weights = decoder(decoder_inputs, encoder_annotations, decoder_hidden)\n",
        "      generated_words = F.softmax(decoder_outputs, dim=2).max(2)[1]\n",
        "      ni = generated_words.cpu().numpy().reshape(-1)  # LongTensor of size 1\n",
        "      ni = ni[-1] #latest output token\n",
        "      \n",
        "      decoder_inputs = torch.cat([decoder_input, generated_words], dim=1)\n",
        "      \n",
        "      if ni == end_token:\n",
        "          break\n",
        "      else:\n",
        "          gen_string = \"\".join(\n",
        "              [index_to_char[int(item)] \n",
        "               for item in generated_words.cpu().numpy().reshape(-1)])\n",
        "    \n",
        "    if isinstance(attention_weights, tuple):\n",
        "      ## transformer's attention mweights\n",
        "      attention_weights, self_attention_weights = attention_weights\n",
        "    \n",
        "    all_attention_weights = attention_weights.data.cpu().numpy()\n",
        "    \n",
        "    for i in range(len(all_attention_weights)):\n",
        "      attention_weights_matrix = all_attention_weights[i].squeeze()\n",
        "      fig = plt.figure()\n",
        "      ax = fig.add_subplot(111)\n",
        "      cax = ax.matshow(attention_weights_matrix, cmap='bone')\n",
        "      fig.colorbar(cax)\n",
        "\n",
        "      # Set up axes\n",
        "      ax.set_yticklabels([''] + list(input_string) + ['EOS'], rotation=90)\n",
        "      ax.set_xticklabels([''] + list(gen_string) + (['EOS'] if produced_end_token else []))\n",
        "\n",
        "      # Show label at every tick\n",
        "      ax.xaxis.set_major_locator(ticker.MultipleLocator(1))\n",
        "      ax.yaxis.set_major_locator(ticker.MultipleLocator(1))\n",
        "      # Add title\n",
        "      plt.xlabel('Attention weights to the source sentence in layer {}'.format(i+1))\n",
        "      plt.tight_layout()\n",
        "      plt.grid('off')\n",
        "      plt.show()\n",
        "      #plt.savefig(save)\n",
        "\n",
        "      #plt.close(fig)\n",
        "\n",
        "    return gen_string\n",
        "\n",
        "\n",
        "def compute_loss(data_dict, encoder, decoder, idx_dict, criterion, optimizer, opts):\n",
        "    \"\"\"Train/Evaluate the model on a dataset.\n",
        "\n",
        "    Arguments:\n",
        "        data_dict: The validation/test word pairs, organized by source and target lengths.\n",
        "        encoder: An encoder model to produce annotations for each step of the input sequence.\n",
        "        decoder: A decoder model (with or without attention) to generate output tokens.\n",
        "        idx_dict: Contains char-to-index and index-to-char mappings, and start & end token indexes.\n",
        "        criterion: Used to compute the CrossEntropyLoss for each decoder output.\n",
        "        optimizer: Train the weights if an optimizer is given. None if only evaluate the model. \n",
        "        opts: The command-line arguments.\n",
        "\n",
        "    Returns:\n",
        "        mean_loss: The average loss over all batches from data_dict.\n",
        "    \"\"\"\n",
        "    start_token = idx_dict['start_token']\n",
        "    end_token = idx_dict['end_token']\n",
        "    char_to_index = idx_dict['char_to_index']\n",
        "\n",
        "    losses = []\n",
        "    for key in data_dict:\n",
        "        input_strings, target_strings = zip(*data_dict[key])\n",
        "        input_tensors = [torch.LongTensor(string_to_index_list(s, char_to_index, end_token)) for s in input_strings]\n",
        "        target_tensors = [torch.LongTensor(string_to_index_list(s, char_to_index, end_token)) for s in target_strings]\n",
        "\n",
        "        num_tensors = len(input_tensors)\n",
        "        num_batches = int(np.ceil(num_tensors / float(opts.batch_size)))\n",
        "\n",
        "        for i in range(num_batches):\n",
        "\n",
        "            start = i * opts.batch_size\n",
        "            end = start + opts.batch_size\n",
        "\n",
        "            inputs = to_var(torch.stack(input_tensors[start:end]), opts.cuda)\n",
        "            targets = to_var(torch.stack(target_tensors[start:end]), opts.cuda)\n",
        "\n",
        "            # The batch size may be different in each epoch\n",
        "            BS = inputs.size(0)\n",
        "\n",
        "            encoder_annotations, encoder_hidden = encoder(inputs)\n",
        "\n",
        "            # The last hidden state of the encoder becomes the first hidden state of the decoder\n",
        "            decoder_hidden = encoder_hidden\n",
        "\n",
        "            start_vector = torch.ones(BS).long().unsqueeze(1) * start_token  # BS x 1 --> 16x1  CHECKED\n",
        "            decoder_input = to_var(start_vector, opts.cuda)  # BS x 1 --> 16x1  CHECKED\n",
        "\n",
        "            loss = 0.0\n",
        "\n",
        "            seq_len = targets.size(1)  # Gets seq_len from BS x seq_len\n",
        "\n",
        "            decoder_inputs = torch.cat([decoder_input, targets[:, 0:-1]], dim=1)  # Gets decoder inputs by shifting the targets to the right \n",
        "            \n",
        "            decoder_outputs, attention_weights = decoder(decoder_inputs, encoder_annotations, encoder_hidden)\n",
        "            decoder_outputs_flatten = decoder_outputs.view(-1, decoder_outputs.size(2))\n",
        "            targets_flatten = targets.view(-1)\n",
        "            loss = criterion(decoder_outputs_flatten, targets_flatten)\n",
        "\n",
        "            losses.append(loss.item())\n",
        "\n",
        "            ## training if an optimizer is provided\n",
        "            if optimizer:\n",
        "              # Zero gradients\n",
        "              optimizer.zero_grad()\n",
        "              # Compute gradients\n",
        "              loss.backward()\n",
        "              # Update the parameters of the encoder and decoder\n",
        "              optimizer.step()\n",
        "              \n",
        "    mean_loss = np.mean(losses)\n",
        "    return mean_loss\n",
        "\n",
        "  \n",
        "\n",
        "def training_loop(train_dict, val_dict, idx_dict, encoder, decoder, criterion, optimizer, opts):\n",
        "    \"\"\"Runs the main training loop; evaluates the model on the val set every epoch.\n",
        "        * Prints training and val loss each epoch.\n",
        "        * Prints qualitative translation results each epoch using TEST_SENTENCE\n",
        "        * Saves an attention map for TEST_WORD_ATTN each epoch\n",
        "\n",
        "    Arguments:\n",
        "        train_dict: The training word pairs, organized by source and target lengths.\n",
        "        val_dict: The validation word pairs, organized by source and target lengths.\n",
        "        idx_dict: Contains char-to-index and index-to-char mappings, and start & end token indexes.\n",
        "        encoder: An encoder model to produce annotations for each step of the input sequence.\n",
        "        decoder: A decoder model (with or without attention) to generate output tokens.\n",
        "        criterion: Used to compute the CrossEntropyLoss for each decoder output.\n",
        "        optimizer: Implements a step rule to update the parameters of the encoder and decoder.\n",
        "        opts: The command-line arguments.\n",
        "    \"\"\"\n",
        "\n",
        "    start_token = idx_dict['start_token']\n",
        "    end_token = idx_dict['end_token']\n",
        "    char_to_index = idx_dict['char_to_index']\n",
        "\n",
        "    loss_log = open(os.path.join(opts.checkpoint_path, 'loss_log.txt'), 'w')\n",
        "\n",
        "    best_val_loss = 1e6\n",
        "    train_losses = []\n",
        "    val_losses = []\n",
        "\n",
        "    for epoch in range(opts.nepochs):\n",
        "\n",
        "        optimizer.param_groups[0]['lr'] *= opts.lr_decay\n",
        "        \n",
        "        train_loss = compute_loss(train_dict, encoder, decoder, idx_dict, criterion, optimizer, opts)\n",
        "        val_loss = compute_loss(val_dict, encoder, decoder, idx_dict, criterion, None, opts)\n",
        "\n",
        "        if val_loss < best_val_loss:\n",
        "            checkpoint(encoder, decoder, idx_dict, opts)\n",
        "\n",
        "        gen_string = translate_sentence(TEST_SENTENCE, encoder, decoder, idx_dict, opts)\n",
        "        print(\"Epoch: {:3d} | Train loss: {:.3f} | Val loss: {:.3f} | Gen: {:20s}\".format(epoch, train_loss, val_loss, gen_string))\n",
        "\n",
        "        loss_log.write('{} {} {}\\n'.format(epoch, train_loss, val_loss))\n",
        "        loss_log.flush()\n",
        "\n",
        "        train_losses.append(train_loss)\n",
        "        val_losses.append(val_loss)\n",
        "\n",
        "        save_loss_plot(train_losses, val_losses, opts)\n",
        "\n",
        "\n",
        "def print_data_stats(line_pairs, vocab_size, idx_dict):\n",
        "    \"\"\"Prints example word pairs, the number of data points, and the vocabulary.\n",
        "    \"\"\"\n",
        "    print('=' * 80)\n",
        "    print('Data Stats'.center(80))\n",
        "    print('-' * 80)\n",
        "    for pair in line_pairs[:5]:\n",
        "        print(pair)\n",
        "    print('Num unique word pairs: {}'.format(len(line_pairs)))\n",
        "    print('Vocabulary: {}'.format(idx_dict['char_to_index'].keys()))\n",
        "    print('Vocab size: {}'.format(vocab_size))\n",
        "    print('=' * 80)\n",
        "\n",
        "\n",
        "def train(opts):\n",
        "    line_pairs, vocab_size, idx_dict = load_data()\n",
        "    print_data_stats(line_pairs, vocab_size, idx_dict)\n",
        "\n",
        "    # Split the line pairs into an 80% train and 20% val split\n",
        "    num_lines = len(line_pairs)\n",
        "    num_train = int(0.8 * num_lines)\n",
        "    train_pairs, val_pairs = line_pairs[:num_train], line_pairs[num_train:]\n",
        "\n",
        "    # Group the data by the lengths of the source and target words, to form batches\n",
        "    train_dict = create_dict(train_pairs)\n",
        "    val_dict = create_dict(val_pairs)\n",
        "\n",
        "    ##########################################################################\n",
        "    ### Setup: Create Encoder, Decoder, Learning Criterion, and Optimizers ###\n",
        "    ##########################################################################\n",
        "    encoder = GRUEncoder(vocab_size=vocab_size, \n",
        "                         hidden_size=opts.hidden_size, \n",
        "                         opts=opts)\n",
        "\n",
        "    if opts.decoder_type == 'rnn':\n",
        "        decoder = RNNDecoder(vocab_size=vocab_size, \n",
        "                             hidden_size=opts.hidden_size)\n",
        "    elif opts.decoder_type == 'rnn_attention':\n",
        "        decoder = RNNAttentionDecoder(vocab_size=vocab_size, \n",
        "                                      hidden_size=opts.hidden_size, \n",
        "                                      attention_type=opts.attention_type)\n",
        "    elif opts.decoder_type == 'transformer':\n",
        "        decoder = TransformerDecoder(vocab_size=vocab_size, \n",
        "                                     hidden_size=opts.hidden_size, \n",
        "                                     num_layers=opts.num_transformer_layers)\n",
        "    else:\n",
        "        raise NotImplementedError\n",
        "        \n",
        "    #### setup checkpoint path\n",
        "    model_name = 'h{}-bs{}-{}'.format(opts.hidden_size, \n",
        "                                      opts.batch_size, \n",
        "                                      opts.decoder_type)\n",
        "    opts.checkpoint_path = model_name\n",
        "    create_dir_if_not_exists(opts.checkpoint_path)\n",
        "    ####\n",
        "\n",
        "    if opts.cuda:\n",
        "        encoder.cuda()\n",
        "        decoder.cuda()\n",
        "        print(\"Moved models to GPU!\")\n",
        "\n",
        "    criterion = nn.CrossEntropyLoss()\n",
        "    optimizer = optim.Adam(list(encoder.parameters()) + list(decoder.parameters()), lr=opts.learning_rate)\n",
        "\n",
        "    try:\n",
        "        training_loop(train_dict, val_dict, idx_dict, encoder, decoder, criterion, optimizer, opts)\n",
        "    except KeyboardInterrupt:\n",
        "        print('Exiting early from training.')\n",
        "        return encoder, decoder\n",
        "      \n",
        "    return encoder, decoder\n",
        "\n",
        "\n",
        "def print_opts(opts):\n",
        "    \"\"\"Prints the values of all command-line arguments.\n",
        "    \"\"\"\n",
        "    print('=' * 80)\n",
        "    print('Opts'.center(80))\n",
        "    print('-' * 80)\n",
        "    for key in opts.__dict__:\n",
        "        print('{:>30}: {:<30}'.format(key, opts.__dict__[key]).center(80))\n",
        "    print('=' * 80)\n"
      ],
      "execution_count": 0,
      "outputs": []
    },
    {
      "metadata": {
        "id": "bXNsLNkOn38w",
        "colab_type": "text"
      },
      "cell_type": "markdown",
      "source": [
        "# NMT models"
      ]
    },
    {
      "metadata": {
        "id": "_BAfi_8yWB3y",
        "colab_type": "text"
      },
      "cell_type": "markdown",
      "source": [
        "## GRU cell"
      ]
    },
    {
      "metadata": {
        "id": "9ztmyA5Ro67o",
        "colab_type": "code",
        "colab": {}
      },
      "cell_type": "code",
      "source": [
        "class MyGRUCell(nn.Module):\n",
        "    def __init__(self, input_size, hidden_size):\n",
        "        super(MyGRUCell, self).__init__()\n",
        "\n",
        "        self.input_size = input_size\n",
        "        self.hidden_size = hidden_size\n",
        "\n",
        "        ## Input linear layers\n",
        "        self.Wiz = nn.Linear(input_size, hidden_size)\n",
        "        self.Wir = nn.Linear(input_size, hidden_size)\n",
        "        self.Wih = nn.Linear(input_size, hidden_size)\n",
        "\n",
        "        ## Hidden linear layers\n",
        "        self.Whz = nn.Linear(hidden_size, hidden_size)\n",
        "        self.Whr = nn.Linear(hidden_size, hidden_size)\n",
        "        self.Whh = nn.Linear(hidden_size, hidden_size)\n",
        "        \n",
        "\n",
        "\n",
        "    def forward(self, x, h_prev):\n",
        "        \"\"\"Forward pass of the GRU computation for one time step.\n",
        "\n",
        "        Arguments\n",
        "            x: batch_size x input_size\n",
        "            h_prev: batch_size x hidden_size\n",
        "\n",
        "        Returns:\n",
        "            h_new: batch_size x hidden_size\n",
        "        \"\"\"\n",
        "\n",
        "        # ------------\n",
        "        # FILL THIS IN\n",
        "        # ------------\n",
        "        z = F.sigmoid( self.Wiz(x) + self.Whz(h_prev) )\n",
        "        r = F.sigmoid( self.Wir(x) + self.Whr(h_prev) )\n",
        "        g = F.tanh( self.Wih(x) + r * self.Whh(h_prev) )\n",
        "        h_new = (1 - z) * g + z * h_prev\n",
        "        return h_new\n",
        "\n",
        "        "
      ],
      "execution_count": 0,
      "outputs": []
    },
    {
      "metadata": {
        "id": "-JBVFLEZWNC1",
        "colab_type": "text"
      },
      "cell_type": "markdown",
      "source": [
        "### GRU encoder / decoder"
      ]
    },
    {
      "metadata": {
        "id": "xaDt7XDmWRzC",
        "colab_type": "code",
        "colab": {}
      },
      "cell_type": "code",
      "source": [
        "class GRUEncoder(nn.Module):\n",
        "    def __init__(self, vocab_size, hidden_size, opts):\n",
        "        super(GRUEncoder, self).__init__()\n",
        "\n",
        "        self.vocab_size = vocab_size\n",
        "        self.hidden_size = hidden_size\n",
        "        self.opts = opts\n",
        "\n",
        "        self.embedding = nn.Embedding(vocab_size, hidden_size)\n",
        "        self.gru = nn.GRUCell(hidden_size, hidden_size)\n",
        "\n",
        "    def forward(self, inputs):\n",
        "        \"\"\"Forward pass of the encoder RNN.\n",
        "\n",
        "        Arguments:\n",
        "            inputs: Input token indexes across a batch for all time steps in the sequence. (batch_size x seq_len)\n",
        "\n",
        "        Returns:\n",
        "            annotations: The hidden states computed at each step of the input sequence. (batch_size x seq_len x hidden_size)\n",
        "            hidden: The final hidden state of the encoder, for each sequence in a batch. (batch_size x hidden_size)\n",
        "        \"\"\"\n",
        "\n",
        "        batch_size, seq_len = inputs.size()\n",
        "        hidden = self.init_hidden(batch_size)\n",
        "\n",
        "        encoded = self.embedding(inputs)  # batch_size x seq_len x hidden_size\n",
        "        annotations = []\n",
        "\n",
        "        for i in range(seq_len):\n",
        "            x = encoded[:,i,:]  # Get the current time step, across the whole batch\n",
        "            hidden = self.gru(x, hidden)\n",
        "            annotations.append(hidden)\n",
        "\n",
        "        annotations = torch.stack(annotations, dim=1)\n",
        "        return annotations, hidden\n",
        "\n",
        "    def init_hidden(self, bs):\n",
        "        \"\"\"Creates a tensor of zeros to represent the initial hidden states\n",
        "        of a batch of sequences.\n",
        "\n",
        "        Arguments:\n",
        "            bs: The batch size for the initial hidden state.\n",
        "\n",
        "        Returns:\n",
        "            hidden: An initial hidden state of all zeros. (batch_size x hidden_size)\n",
        "        \"\"\"\n",
        "        return to_var(torch.zeros(bs, self.hidden_size), self.opts.cuda)\n",
        "\n",
        "\n",
        "class RNNDecoder(nn.Module):\n",
        "    def __init__(self, vocab_size, hidden_size):\n",
        "        super(RNNDecoder, self).__init__()\n",
        "        self.vocab_size = vocab_size\n",
        "        self.hidden_size = hidden_size\n",
        "\n",
        "        self.embedding = nn.Embedding(vocab_size, hidden_size)\n",
        "        self.rnn = nn.GRUCell(input_size=hidden_size, hidden_size=hidden_size)\n",
        "        self.out = nn.Linear(hidden_size, vocab_size)\n",
        "\n",
        "    def forward(self, inputs, annotations, hidden_init):\n",
        "        \"\"\"Forward pass of the non-attentional decoder RNN.\n",
        "\n",
        "        Arguments:\n",
        "            inputs: Input token indexes across a batch. (batch_size x seq_len)\n",
        "            annotations: This is not used here. It just maintains consistency with the\n",
        "                    interface used by the AttentionDecoder class.\n",
        "            hidden_init: The hidden states from the last step of encoder, across a batch. (batch_size x hidden_size)\n",
        "\n",
        "        Returns:\n",
        "            output: Un-normalized scores for each token in the vocabulary, across a batch for all the decoding time steps. (batch_size x decoder_seq_len x vocab_size)\n",
        "            None\n",
        "        \"\"\"        \n",
        "        batch_size, seq_len = inputs.size()\n",
        "        embed = self.embedding(inputs)  # batch_size x seq_len x hidden_size        \n",
        "\n",
        "        hiddens = []\n",
        "        h_prev = hidden_init\n",
        "        for i in range(seq_len):\n",
        "            x = embed[:,i,:]  # Get the current time step input tokens, across the whole batch\n",
        "            h_prev = self.rnn(x, h_prev)  # batch_size x hidden_size\n",
        "            hiddens.append(h_prev)\n",
        "\n",
        "        hiddens = torch.stack(hiddens, dim=1) # batch_size x seq_len x hidden_size\n",
        "        \n",
        "        output = self.out(hiddens)  # batch_size x seq_len x vocab_size\n",
        "        return output, None      \n"
      ],
      "execution_count": 0,
      "outputs": []
    },
    {
      "metadata": {
        "id": "tWe0RO5FWajD",
        "colab_type": "text"
      },
      "cell_type": "markdown",
      "source": [
        "## Attention"
      ]
    },
    {
      "metadata": {
        "id": "9GUK5A7CWhV8",
        "colab_type": "code",
        "colab": {}
      },
      "cell_type": "code",
      "source": [
        "class AdditiveAttention(nn.Module):\n",
        "    def __init__(self, hidden_size):\n",
        "        super(AdditiveAttention, self).__init__()\n",
        "\n",
        "        self.hidden_size = hidden_size\n",
        "\n",
        "        # A two layer fully-connected network\n",
        "        # hidden_size*2 --> hidden_size, ReLU, hidden_size --> 1\n",
        "        self.attention_network = nn.Sequential(\n",
        "                                    nn.Linear(hidden_size*2, hidden_size),\n",
        "                                    nn.ReLU(),\n",
        "                                    nn.Linear(hidden_size, 1)\n",
        "                                 )\n",
        "\n",
        "        self.softmax = nn.Softmax(dim=1)\n",
        "\n",
        "    def forward(self, queries, keys, values):\n",
        "        \"\"\"The forward pass of the additive attention mechanism.\n",
        "\n",
        "        Arguments:\n",
        "            queries: The current decoder hidden state. (batch_size x hidden_size)\n",
        "            keys: The encoder hidden states for each step of the input sequence. (batch_size x seq_len x hidden_size)\n",
        "            values: The encoder hidden states for each step of the input sequence. (batch_size x seq_len x hidden_size)\n",
        "\n",
        "        Returns:\n",
        "            context: weighted average of the values (batch_size x 1 x hidden_size)\n",
        "            attention_weights: Normalized attention weights for each encoder hidden state. (batch_size x seq_len x 1)\n",
        "\n",
        "            The attention_weights must be a softmax weighting over the seq_len annotations.\n",
        "        \"\"\"\n",
        "        batch_size = queries.shape[0]\n",
        "        expanded_queries = queries.unsqueeze(1).expand_as(keys)\n",
        "        concat_inputs = torch.cat([expanded_queries, keys], dim=2)\n",
        "        unnormalized_attention = self.attention_network(concat_inputs)\n",
        "        attention_weights = self.softmax(unnormalized_attention)\n",
        "        context = torch.bmm(attention_weights.transpose(1, 2), values)\n",
        "        return context, attention_weights\n",
        "        \n",
        "      \n",
        "\n",
        "class ScaledDotAttention(nn.Module):\n",
        "    def __init__(self, hidden_size):\n",
        "        super(ScaledDotAttention, self).__init__()\n",
        "\n",
        "        self.hidden_size = hidden_size\n",
        "\n",
        "        self.Q = nn.Linear(hidden_size, hidden_size)\n",
        "        self.K = nn.Linear(hidden_size, hidden_size)\n",
        "        self.V = nn.Linear(hidden_size, hidden_size)\n",
        "        self.softmax = nn.Softmax(dim=1)\n",
        "        self.scaling_factor = torch.rsqrt(torch.tensor(self.hidden_size, dtype= torch.float))\n",
        "\n",
        "    def forward(self, queries, keys, values):\n",
        "        \"\"\"The forward pass of the scaled dot attention mechanism.\n",
        "\n",
        "        Arguments:\n",
        "            queries: The current decoder hidden state, 2D or 3D tensor. (batch_size x (k) x hidden_size)\n",
        "            keys: The encoder hidden states for each step of the input sequence. (batch_size x seq_len x hidden_size)\n",
        "            values: The encoder hidden states for each step of the input sequence. (batch_size x seq_len x hidden_size)\n",
        "\n",
        "        Returns:\n",
        "            context: weighted average of the values (batch_size x k x hidden_size)\n",
        "            attention_weights: Normalized attention weights for each encoder hidden state. (batch_size x seq_len x 1)\n",
        "\n",
        "            The output must be a softmax weighting over the seq_len annotations.\n",
        "        \"\"\"\n",
        "        batch_size = queries.shape[0]\n",
        "        if len(queries.shape) == 2:\n",
        "          queries = queries.unsqueeze(1)\n",
        "        q = self.Q(queries)\n",
        "        k = self.K(keys)\n",
        "        v = self.V(values)\n",
        "        unnormalized_attention = torch.bmm(k, q.transpose(1, 2)) * self.scaling_factor\n",
        "        attention_weights = self.softmax(unnormalized_attention)\n",
        "        context = torch.bmm(attention_weights.transpose(1, 2), v)\n",
        "        return context, attention_weights\n",
        "        \n",
        "      \n",
        "class CausalScaledDotAttention(nn.Module):\n",
        "    def __init__(self, hidden_size):\n",
        "        super(CausalScaledDotAttention, self).__init__()\n",
        "\n",
        "        self.hidden_size = hidden_size\n",
        "        self.neg_inf = torch.tensor(-1e7)\n",
        "\n",
        "        self.Q = nn.Linear(hidden_size, hidden_size)\n",
        "        self.K = nn.Linear(hidden_size, hidden_size)\n",
        "        self.V = nn.Linear(hidden_size, hidden_size)\n",
        "        self.softmax = nn.Softmax(dim=1)\n",
        "        self.scaling_factor = torch.rsqrt(torch.tensor(self.hidden_size, dtype= torch.float))\n",
        "\n",
        "    def forward(self, queries, keys, values):\n",
        "        \"\"\"The forward pass of the scaled dot attention mechanism.\n",
        "\n",
        "        Arguments:\n",
        "            queries: The current decoder hidden state, 2D or 3D tensor. (batch_size x (k) x hidden_size)\n",
        "            keys: The encoder hidden states for each step of the input sequence. (batch_size x seq_len x hidden_size)\n",
        "            values: The encoder hidden states for each step of the input sequence. (batch_size x seq_len x hidden_size)\n",
        "\n",
        "        Returns:\n",
        "            context: weighted average of the values (batch_size x k x hidden_size)\n",
        "            attention_weights: Normalized attention weights for each encoder hidden state. (batch_size x seq_len x 1)\n",
        "\n",
        "            The output must be a softmax weighting over the seq_len annotations.\n",
        "        \"\"\"\n",
        "        batch_size = queries.shape[0]\n",
        "        if len(queries.shape) == 2:\n",
        "          queries = queries.unsqueeze(1)\n",
        "        q = self.Q(queries)\n",
        "        k = self.K(keys)\n",
        "        v = self.V(values)\n",
        "        unnormalized_attention = torch.bmm(k, q.transpose(1, 2)) * self.scaling_factor\n",
        "        mask = torch.tril(torch.Tensor(unnormalized_attention.size()).fill_(self.neg_inf).cuda(), diagonal=-1)\n",
        "        attention_weights = self.softmax(unnormalized_attention + mask)\n",
        "        context = torch.bmm(attention_weights.transpose(1, 2), v)\n",
        "        return context, attention_weights\n",
        "        \n",
        "        "
      ],
      "execution_count": 0,
      "outputs": []
    },
    {
      "metadata": {
        "id": "pemjZo2XWtRt",
        "colab_type": "text"
      },
      "cell_type": "markdown",
      "source": [
        "### Attention decoder"
      ]
    },
    {
      "metadata": {
        "id": "PfjF0Z-PWwPv",
        "colab_type": "code",
        "colab": {}
      },
      "cell_type": "code",
      "source": [
        "class RNNAttentionDecoder(nn.Module):\n",
        "    def __init__(self, vocab_size, hidden_size, attention_type='scaled_dot'):\n",
        "        super(RNNAttentionDecoder, self).__init__()\n",
        "        self.vocab_size = vocab_size\n",
        "        self.hidden_size = hidden_size\n",
        "\n",
        "        self.embedding = nn.Embedding(vocab_size, hidden_size)\n",
        "\n",
        "        self.rnn = MyGRUCell(input_size=hidden_size*2, hidden_size=hidden_size)\n",
        "        if attention_type == 'additive':\n",
        "          self.attention = AdditiveAttention(hidden_size=hidden_size)\n",
        "        elif attention_type == 'scaled_dot':\n",
        "          self.attention = ScaledDotAttention(hidden_size=hidden_size)\n",
        "        \n",
        "        self.out = nn.Linear(hidden_size, vocab_size)\n",
        "\n",
        "        \n",
        "    def forward(self, inputs, annotations, hidden_init):\n",
        "        \"\"\"Forward pass of the attention-based decoder RNN.\n",
        "\n",
        "        Arguments:\n",
        "            inputs: Input token indexes across a batch for all the time step. (batch_size x decoder_seq_len)\n",
        "            annotations: The encoder hidden states for each step of the input.\n",
        "                         sequence. (batch_size x seq_len x hidden_size)\n",
        "            hidden_init: The final hidden states from the encoder, across a batch. (batch_size x hidden_size)\n",
        "\n",
        "        Returns:\n",
        "            output: Un-normalized scores for each token in the vocabulary, across a batch for all the decoding time steps. (batch_size x decoder_seq_len x vocab_size)\n",
        "            attentions: The stacked attention weights applied to the encoder annotations (batch_size x encoder_seq_len x decoder_seq_len)\n",
        "        \"\"\"\n",
        "        batch_size, seq_len = inputs.size()\n",
        "        embed = self.embedding(inputs)  # batch_size x seq_len x hidden_size        \n",
        "        hiddens = []\n",
        "        attentions = []\n",
        "        h_prev = hidden_init\n",
        "        for i in range(seq_len):\n",
        "            embed_current = embed.index_select(1, torch.tensor([i]).cuda())\n",
        "            context, attention_weights = self.attention.forward(h_prev, annotations, annotations)\n",
        "            #print(context.size())\n",
        "            #print(h_prev.size())\n",
        "            embed_and_context = torch.cat((embed_current, context), dim=2)\n",
        "            h_prev = self.rnn.forward(embed_and_context.squeeze(1), h_prev)\n",
        "            hiddens.append(h_prev)\n",
        "            attentions.append(attention_weights)\n",
        "\n",
        "        hiddens = torch.stack(hiddens, dim=1) # batch_size x seq_len x hidden_size\n",
        "        attentions = torch.cat(attentions, dim=2) # batch_size x seq_len x seq_len\n",
        "        \n",
        "        output = self.out(hiddens)  # batch_size x seq_len x vocab_size\n",
        "        return output, attentions\n",
        "        "
      ],
      "execution_count": 0,
      "outputs": []
    },
    {
      "metadata": {
        "id": "N8JpcwTRW5cw",
        "colab_type": "text"
      },
      "cell_type": "markdown",
      "source": [
        "### Transformer decoder"
      ]
    },
    {
      "metadata": {
        "id": "V5vJPku1W7sz",
        "colab_type": "code",
        "colab": {}
      },
      "cell_type": "code",
      "source": [
        "class TransformerDecoder(nn.Module):\n",
        "    def __init__(self, vocab_size, hidden_size, num_layers):\n",
        "        super(TransformerDecoder, self).__init__()\n",
        "        self.vocab_size = vocab_size\n",
        "        self.hidden_size = hidden_size\n",
        "\n",
        "        self.embedding = nn.Embedding(vocab_size, hidden_size)        \n",
        "        self.num_layers = num_layers\n",
        "        \n",
        "        self.self_attentions = nn.ModuleList([CausalScaledDotAttention( \n",
        "                                    hidden_size=hidden_size, \n",
        "                                 ) for i in range(self.num_layers)])\n",
        "        self.encoder_attentions = nn.ModuleList([ScaledDotAttention(\n",
        "                                    hidden_size=hidden_size, \n",
        "                                 ) for i in range(self.num_layers)])\n",
        "        self.attention_mlps = nn.ModuleList([nn.Sequential(\n",
        "                                    nn.Linear(hidden_size, hidden_size),\n",
        "                                    nn.ReLU(),\n",
        "                                 ) for i in range(self.num_layers)])\n",
        "        self.out = nn.Linear(hidden_size, vocab_size)\n",
        "\n",
        "        \n",
        "    def forward(self, inputs, annotations, hidden_init):\n",
        "        \"\"\"Forward pass of the attention-based decoder RNN.\n",
        "\n",
        "        Arguments:\n",
        "            inputs: Input token indexes across a batch for all the time step. (batch_size x decoder_seq_len)\n",
        "            annotations: The encoder hidden states for each step of the input.\n",
        "                         sequence. (batch_size x seq_len x hidden_size)\n",
        "            hidden_init: Not used in the transformer decoder\n",
        "        Returns:\n",
        "            output: Un-normalized scores for each token in the vocabulary, across a batch for all the decoding time steps. (batch_size x decoder_seq_len x vocab_size)\n",
        "            attentions: The stacked attention weights applied to the encoder annotations (batch_size x encoder_seq_len x decoder_seq_len)\n",
        "        \"\"\"\n",
        "        \n",
        "        batch_size, seq_len = inputs.size()\n",
        "        embed = self.embedding(inputs)  # batch_size x seq_len x hidden_size        \n",
        "\n",
        "        encoder_attention_weights_list = []\n",
        "        self_attention_weights_list = []\n",
        "        contexts = embed\n",
        "        for i in range(self.num_layers):\n",
        "          new_contexts, self_attention_weights = self.self_attentions[i](contexts, contexts, contexts)\n",
        "          residual_contexts = contexts + new_contexts\n",
        "          new_contexts, encoder_attention_weights = self.encoder_attentions[i](residual_contexts, annotations, annotations)\n",
        "          residual_contexts = residual_contexts + new_contexts\n",
        "          new_contexts = self.attention_mlps[i](residual_contexts)\n",
        "          contexts = residual_contexts + new_contexts\n",
        "          \n",
        "          encoder_attention_weights_list.append(encoder_attention_weights)\n",
        "          self_attention_weights_list.append(self_attention_weights)\n",
        "          \n",
        "        output = self.out(contexts)\n",
        "        encoder_attention_weights = torch.stack(encoder_attention_weights_list)\n",
        "        self_attention_weights = torch.stack(self_attention_weights_list)\n",
        "        \n",
        "        return output, (encoder_attention_weights, self_attention_weights)"
      ],
      "execution_count": 0,
      "outputs": []
    },
    {
      "metadata": {
        "id": "XuNFd6LNo0-o",
        "colab_type": "text"
      },
      "cell_type": "markdown",
      "source": [
        "# Training\n"
      ]
    },
    {
      "metadata": {
        "id": "kiUwiOITHTW4",
        "colab_type": "text"
      },
      "cell_type": "markdown",
      "source": [
        "## Download dataset"
      ]
    },
    {
      "metadata": {
        "id": "xwcFjsEpHRbI",
        "colab_type": "code",
        "outputId": "89f07bb5-18d0-4a8e-dea2-7386b9abfe68",
        "colab": {
          "base_uri": "https://localhost:8080/",
          "height": 34
        }
      },
      "cell_type": "code",
      "source": [
        "import time\n",
        "######################################################################\n",
        "# Download Translation datasets\n",
        "######################################################################\n",
        "data_fpath = get_file(fname='pig_latin_data.txt', \n",
        "                         origin='http://www.cs.toronto.edu/~jba/pig_latin_data.txt', \n",
        "                         untar=False)"
      ],
      "execution_count": 0,
      "outputs": [
        {
          "output_type": "stream",
          "text": [
            "data/pig_latin_data.txt\n"
          ],
          "name": "stdout"
        }
      ]
    },
    {
      "metadata": {
        "id": "hmQmyJDSRFKR",
        "colab_type": "text"
      },
      "cell_type": "markdown",
      "source": [
        "## RNN decoder"
      ]
    },
    {
      "metadata": {
        "id": "0LKaRF1jwhH7",
        "colab_type": "code",
        "outputId": "d1ba4bd8-5ad1-4c5e-933a-ab33e14fccdf",
        "colab": {
          "base_uri": "https://localhost:8080/",
          "height": 2298
        }
      },
      "cell_type": "code",
      "source": [
        "TEST_SENTENCE = 'the air conditioning is working'\n",
        "\n",
        "args = AttrDict()\n",
        "args_dict = {\n",
        "              'cuda':True, \n",
        "              'nepochs':100, \n",
        "              'checkpoint_dir':\"checkpoints\", \n",
        "              'learning_rate':0.005, \n",
        "              'lr_decay':0.99,\n",
        "              'batch_size':64, \n",
        "              'hidden_size':20, \n",
        "              'decoder_type': 'rnn', # options: rnn / rnn_attention / transformer\n",
        "              'attention_type': '',  # options: additive / scaled_dot\n",
        "}\n",
        "args.update(args_dict)\n",
        "\n",
        "print_opts(args)\n",
        "start = time.time()\n",
        "rnn_encoder, rnn_decoder = train(args)\n",
        "end = time.time()\n",
        "\n",
        "translated = translate_sentence(TEST_SENTENCE, rnn_encoder, rnn_decoder, None, args)\n",
        "print(\"source:\\t\\t{} \\ntranslated:\\t{}\".format(TEST_SENTENCE, translated))\n",
        "print(\"training time:\\t\\t{} seconds\".format(end-start))"
      ],
      "execution_count": 0,
      "outputs": [
        {
          "output_type": "stream",
          "text": [
            "================================================================================\n",
            "                                      Opts                                      \n",
            "--------------------------------------------------------------------------------\n",
            "                            hidden_size: 20                                     \n",
            "                          learning_rate: 0.005                                  \n",
            "                             batch_size: 64                                     \n",
            "                                nepochs: 100                                    \n",
            "                                   cuda: 1                                      \n",
            "                         checkpoint_dir: checkpoints                            \n",
            "                           decoder_type: rnn                                    \n",
            "                               lr_decay: 0.99                                   \n",
            "                         attention_type:                                        \n",
            "================================================================================\n",
            "================================================================================\n",
            "                                   Data Stats                                   \n",
            "--------------------------------------------------------------------------------\n",
            "('payment', 'aymentpay')\n",
            "('ordination', 'ordinationway')\n",
            "('amends', 'amendsway')\n",
            "('principally', 'incipallypray')\n",
            "('anybody', 'anybodyway')\n",
            "Num unique word pairs: 6387\n",
            "Vocabulary: ['EOS', '-', 'SOS', 'a', 'c', 'b', 'e', 'd', 'g', 'f', 'i', 'h', 'k', 'j', 'm', 'l', 'o', 'n', 'q', 'p', 's', 'r', 'u', 't', 'w', 'v', 'y', 'x', 'z']\n",
            "Vocab size: 29\n",
            "================================================================================\n",
            "Moved models to GPU!\n"
          ],
          "name": "stdout"
        },
        {
          "output_type": "stream",
          "text": [
            "/usr/local/lib/python2.7/dist-packages/torch/serialization.py:251: UserWarning: Couldn't retrieve source code for container of type GRUEncoder. It won't be checked for correctness upon loading.\n",
            "  \"type \" + obj.__name__ + \". It won't be checked \"\n",
            "/usr/local/lib/python2.7/dist-packages/torch/serialization.py:251: UserWarning: Couldn't retrieve source code for container of type RNNDecoder. It won't be checked for correctness upon loading.\n",
            "  \"type \" + obj.__name__ + \". It won't be checked \"\n"
          ],
          "name": "stderr"
        },
        {
          "output_type": "stream",
          "text": [
            "Epoch:   0 | Train loss: 2.394 | Val loss: 2.016 | Gen: eray ay eseray ay eseray\n",
            "Epoch:   1 | Train loss: 1.963 | Val loss: 1.903 | Gen: ereray ay eeresseray eateray ontersay\n",
            "Epoch:   2 | Train loss: 1.828 | Val loss: 1.818 | Gen: eray ay oonteray anghay onteray\n",
            "Epoch:   3 | Train loss: 1.726 | Val loss: 1.757 | Gen: eray allay ontersay ingsay onteray\n",
            "Epoch:   4 | Train loss: 1.648 | Val loss: 1.695 | Gen: eray ayway ontionssay ingway oonstray\n",
            "Epoch:   5 | Train loss: 1.578 | Val loss: 1.641 | Gen: eway away ontionssay ingway ootionsay\n",
            "Epoch:   6 | Train loss: 1.532 | Val loss: 1.624 | Gen: eay arway ontionssay ingsay otionsay\n",
            "Epoch:   7 | Train loss: 1.485 | Val loss: 1.580 | Gen: eay-antedway away ontionssay ingsay olltionsay\n",
            "Epoch:   8 | Train loss: 1.457 | Val loss: 1.574 | Gen: eay aingway ontionsay ingway ollingway\n",
            "Epoch:   9 | Train loss: 1.418 | Val loss: 1.532 | Gen: eay-antsay aingway ontionsay iway olltionsay\n",
            "Epoch:  10 | Train loss: 1.375 | Val loss: 1.505 | Gen: eway aingway ontionsay ingway otionsay\n",
            "Epoch:  11 | Train loss: 1.344 | Val loss: 1.484 | Gen: eay-antsay aingway ontionsay isestay otionsay\n",
            "Epoch:  12 | Train loss: 1.319 | Val loss: 1.472 | Gen: eway aingway ontionday isestay otionday\n",
            "Epoch:  13 | Train loss: 1.302 | Val loss: 1.452 | Gen: eway aingway ontionspay isessay ortionsay\n",
            "Epoch:  14 | Train loss: 1.284 | Val loss: 1.429 | Gen: eway aingway ontioncay isessay ortionsay\n",
            "Epoch:  15 | Train loss: 1.256 | Val loss: 1.424 | Gen: eway ainway ontionday istay-ondersay ortionsay\n",
            "Epoch:  16 | Train loss: 1.240 | Val loss: 1.425 | Gen: eway ainway ontionday-onssay istablishedway ovitedway\n",
            "Epoch:  17 | Train loss: 1.254 | Val loss: 1.415 | Gen: eway ainway ontionday-onssay istay oolingingway\n",
            "Epoch:  18 | Train loss: 1.223 | Val loss: 1.409 | Gen: eway ainway ontionday-onssay-ons istangway orlingray\n",
            "Epoch:  19 | Train loss: 1.199 | Val loss: 1.375 | Gen: eway aionssay ontionday-ondersay istay orlingray\n",
            "Epoch:  20 | Train loss: 1.186 | Val loss: 1.390 | Gen: ehay ainway ontionday-ondatedway istangray ortionday\n",
            "Epoch:  21 | Train loss: 1.171 | Val loss: 1.375 | Gen: eway iarthay ontionday-onssay-ond istableway overingway\n",
            "Epoch:  22 | Train loss: 1.188 | Val loss: 1.385 | Gen: eway iarthay ontionday-inway-awla istay orlinglyway\n",
            "Epoch:  23 | Train loss: 1.171 | Val loss: 1.359 | Gen: eway aidway ontionday-ondersay istay orlingray\n",
            "Epoch:  24 | Train loss: 1.143 | Val loss: 1.342 | Gen: eway iarthay ontionday-ondsay istay oviledcay\n",
            "Epoch:  25 | Train loss: 1.129 | Val loss: 1.342 | Gen: eway aiontay ontionday-ondersay istay orvirestay\n",
            "Epoch:  26 | Train loss: 1.122 | Val loss: 1.339 | Gen: eway airestway ontionday-ondsay ishay orlingshay\n",
            "Epoch:  27 | Train loss: 1.113 | Val loss: 1.337 | Gen: eway iarthay ontionday-onday istay orlingpray\n",
            "Epoch:  28 | Train loss: 1.100 | Val loss: 1.333 | Gen: eway airestway ontionday-ondandway istay orlingpray\n",
            "Epoch:  29 | Train loss: 1.121 | Val loss: 1.318 | Gen: eway airway ontionsay istay overingway\n",
            "Epoch:  30 | Train loss: 1.099 | Val loss: 1.332 | Gen: eway airestway ontionsay-ondableway istay ovitedway\n",
            "Epoch:  31 | Train loss: 1.081 | Val loss: 1.313 | Gen: eway airstray ontionsay-ondableway istay orlingstay\n",
            "Epoch:  32 | Train loss: 1.081 | Val loss: 1.298 | Gen: eway airway ontionsingway istay ollingshay\n",
            "Epoch:  33 | Train loss: 1.075 | Val loss: 1.312 | Gen: eway airestway ontionsingway istay ovitedway\n",
            "Epoch:  34 | Train loss: 1.062 | Val loss: 1.310 | Gen: eway airway ontionsiggay istay orlingshay\n",
            "Epoch:  35 | Train loss: 1.069 | Val loss: 1.308 | Gen: eway airestway onsitingway istay overingway\n",
            "Epoch:  36 | Train loss: 1.053 | Val loss: 1.294 | Gen: eway airestway ontionsigghay istay oviledsay\n",
            "Epoch:  37 | Train loss: 1.049 | Val loss: 1.293 | Gen: eway airestway onsingingsay istay overingway\n",
            "Epoch:  38 | Train loss: 1.069 | Val loss: 1.322 | Gen: eway airescay ontionsingway istay oviledway\n",
            "Epoch:  39 | Train loss: 1.059 | Val loss: 1.282 | Gen: ehay aidedway ontionsingway istay overingway\n",
            "Epoch:  40 | Train loss: 1.033 | Val loss: 1.270 | Gen: eway airestway onsionsingway istay overingway\n",
            "Epoch:  41 | Train loss: 1.014 | Val loss: 1.267 | Gen: eway airessay ontionsingway istay ovedingway\n",
            "Epoch:  42 | Train loss: 1.006 | Val loss: 1.270 | Gen: eway airessay ontioncay-ondersay istay ovedingway\n",
            "Epoch:  43 | Train loss: 1.000 | Val loss: 1.268 | Gen: eway airestway ontioncay-ondersay istay ovedray\n",
            "Epoch:  44 | Train loss: 0.996 | Val loss: 1.267 | Gen: eway airessay ontioncay-ondersay istay ovedingway\n",
            "Epoch:  45 | Train loss: 1.002 | Val loss: 1.271 | Gen: eway airessay ontioncay-ondersay istay ovedingway\n",
            "Epoch:  46 | Train loss: 0.994 | Val loss: 1.247 | Gen: eway airessay ondingingway istay ovedingway\n",
            "Epoch:  47 | Train loss: 0.982 | Val loss: 1.255 | Gen: eway airessay ondingingsay istay ovedbay\n",
            "Epoch:  48 | Train loss: 1.016 | Val loss: 1.256 | Gen: eway airesway ondinitedway istay ovedingway\n",
            "Epoch:  49 | Train loss: 0.983 | Val loss: 1.239 | Gen: eblay airessay ontioncay-ondersay istay ovedray\n",
            "Epoch:  50 | Train loss: 0.968 | Val loss: 1.247 | Gen: eblay airessay ondingingway istay ovedingway\n",
            "Epoch:  51 | Train loss: 0.969 | Val loss: 1.257 | Gen: eblay airessay ondingingway istay ougingway\n",
            "Epoch:  52 | Train loss: 0.972 | Val loss: 1.234 | Gen: ebay airesway ondingingway istay ovelyday\n",
            "Epoch:  53 | Train loss: 0.968 | Val loss: 1.240 | Gen: eblay airestway ondingingway istay ouctionday\n",
            "Epoch:  54 | Train loss: 0.960 | Val loss: 1.243 | Gen: eblay airessay ondingingway istay ovedingway\n",
            "Epoch:  55 | Train loss: 0.943 | Val loss: 1.235 | Gen: eblay airestay ondingingway issay ouriteway\n",
            "Epoch:  56 | Train loss: 0.937 | Val loss: 1.227 | Gen: eblay airessay ondingingway istay ovedingway\n",
            "Epoch:  57 | Train loss: 0.931 | Val loss: 1.219 | Gen: eblay airessay ondingingway issay ouriestay\n",
            "Epoch:  58 | Train loss: 0.927 | Val loss: 1.229 | Gen: eblay airesway ondingingway issay ovedingway\n",
            "Epoch:  59 | Train loss: 0.961 | Val loss: 1.249 | Gen: eblay airesway ondingingway issay ouriestay\n",
            "Epoch:  60 | Train loss: 0.939 | Val loss: 1.229 | Gen: eblay airesway ondingingway isway orkingway\n",
            "Epoch:  61 | Train loss: 0.933 | Val loss: 1.248 | Gen: eblay airestay ondingingway issay ouypay\n",
            "Epoch:  62 | Train loss: 0.922 | Val loss: 1.217 | Gen: eblay airesway ondingingway isway orkingway\n",
            "Epoch:  63 | Train loss: 0.921 | Val loss: 1.220 | Gen: eblay airesway ondinitedway issay ourypay\n",
            "Epoch:  64 | Train loss: 0.916 | Val loss: 1.222 | Gen: eblay airesway ondingingway isway ouriteway\n",
            "Epoch:  65 | Train loss: 0.907 | Val loss: 1.249 | Gen: eblay airesway ondingingway isway ouriteway\n",
            "Epoch:  66 | Train loss: 0.914 | Val loss: 1.216 | Gen: eblay airesway ondingingway issay ouriteway\n",
            "Epoch:  67 | Train loss: 0.911 | Val loss: 1.233 | Gen: eblay airesway ondingingway isway orkingway\n",
            "Epoch:  68 | Train loss: 0.948 | Val loss: 1.229 | Gen: eblay airesway ondingingway isway ourypay\n",
            "Epoch:  69 | Train loss: 0.925 | Val loss: 1.209 | Gen: eblay airesway ondinitedway isway orlingsay\n",
            "Epoch:  70 | Train loss: 0.898 | Val loss: 1.217 | Gen: eblay airesway ondinitedday isway orkingway\n",
            "Epoch:  71 | Train loss: 0.886 | Val loss: 1.206 | Gen: eblay airesway ondinitgray isway orkyray\n",
            "Epoch:  72 | Train loss: 0.887 | Val loss: 1.206 | Gen: eblay airway ondinitedday isway orlingsay\n",
            "Epoch:  73 | Train loss: 0.880 | Val loss: 1.199 | Gen: eblay airesway ondinitgray isway orkyedway\n",
            "Epoch:  74 | Train loss: 0.872 | Val loss: 1.203 | Gen: eblay airway ondingingway isway orkyedway\n",
            "Epoch:  75 | Train loss: 0.881 | Val loss: 1.209 | Gen: eblay airesway ondinitgray isway ouriteway\n",
            "Epoch:  76 | Train loss: 0.877 | Val loss: 1.214 | Gen: eblay airesway ondinitgedway isway orkyedway\n",
            "Epoch:  77 | Train loss: 0.879 | Val loss: 1.197 | Gen: eblay airesway ondingingway isway orkedingway\n",
            "Epoch:  78 | Train loss: 0.878 | Val loss: 1.225 | Gen: eblay airway ondinitgray isway olinesay\n",
            "Epoch:  79 | Train loss: 0.869 | Val loss: 1.191 | Gen: eblay airway ondingingway isway orkyedway\n",
            "Epoch:  80 | Train loss: 0.873 | Val loss: 1.195 | Gen: eblay airesway ondinionday isway orkyedway\n",
            "Epoch:  81 | Train loss: 0.876 | Val loss: 1.189 | Gen: eblay airway ondiningstay isway orkingway\n",
            "Epoch:  82 | Train loss: 0.857 | Val loss: 1.189 | Gen: eblay airesway ondinitgray isway orkyedway\n",
            "Epoch:  83 | Train loss: 0.846 | Val loss: 1.198 | Gen: eblay airesway ondinightray isway orkyedway\n",
            "Epoch:  84 | Train loss: 0.844 | Val loss: 1.190 | Gen: eway airway ondinignedsay isway orkyedray\n",
            "Epoch:  85 | Train loss: 0.846 | Val loss: 1.198 | Gen: eway airesway ondinitgray isway orkyedway\n",
            "Epoch:  86 | Train loss: 0.842 | Val loss: 1.203 | Gen: eway airway ondinionday isway orkyedray\n",
            "Epoch:  87 | Train loss: 0.847 | Val loss: 1.194 | Gen: eblay airway ondinionday isway orkyertay\n",
            "Epoch:  88 | Train loss: 0.880 | Val loss: 1.206 | Gen: eway airway ondinitingway isway orkyedray\n",
            "Epoch:  89 | Train loss: 0.868 | Val loss: 1.195 | Gen: eblay airesway ondinitgray isway orkingway\n",
            "Epoch:  90 | Train loss: 0.847 | Val loss: 1.198 | Gen: eway airway ondinignedsay isway orkingway\n",
            "Epoch:  91 | Train loss: 0.840 | Val loss: 1.200 | Gen: eway airway ondinitgray isway orkingway\n",
            "Epoch:  92 | Train loss: 0.829 | Val loss: 1.187 | Gen: eblay airway ondinitgray isway orkyedray\n",
            "Epoch:  93 | Train loss: 0.827 | Val loss: 1.193 | Gen: eblay airway ondingingway isway orkyedway\n",
            "Epoch:  94 | Train loss: 0.823 | Val loss: 1.195 | Gen: eblay airway ondinigdray isway orkyedray\n",
            "Epoch:  95 | Train loss: 0.818 | Val loss: 1.207 | Gen: eway airway ondingingway isway orkyedway\n",
            "Epoch:  96 | Train loss: 0.826 | Val loss: 1.201 | Gen: eblay airway ondinionday isway orkingway\n",
            "Epoch:  97 | Train loss: 0.828 | Val loss: 1.220 | Gen: eblay airway ondingingway isway orkedingway\n",
            "Epoch:  98 | Train loss: 0.829 | Val loss: 1.180 | Gen: eway airway ondinionday isway orkyedray\n",
            "Epoch:  99 | Train loss: 0.820 | Val loss: 1.194 | Gen: eblay airway ondinigbray isway orkyedray\n",
            "source:\t\tthe air conditioning is working \n",
            "translated:\teblay airway ondinigbray isway orkyedray\n",
            "training time:\t\t505.636650085 seconds\n"
          ],
          "name": "stdout"
        }
      ]
    },
    {
      "metadata": {
        "id": "p2kPGj5DFv7a",
        "colab_type": "code",
        "outputId": "10547901-795b-4171-b6a9-39ce40b6d37e",
        "colab": {
          "base_uri": "https://localhost:8080/",
          "height": 574
        }
      },
      "cell_type": "code",
      "source": [
        "TEST_SENTENCE = 'which failure models can you identify?'\n",
        "translated = translate_sentence(TEST_SENTENCE, rnn_encoder, rnn_decoder, None, args)\n",
        "print(\"source:\\t\\t{} \\ntranslated:\\t{}\".format(TEST_SENTENCE, translated))"
      ],
      "execution_count": 0,
      "outputs": [
        {
          "output_type": "error",
          "ename": "KeyError",
          "evalue": "ignored",
          "traceback": [
            "\u001b[0;31m\u001b[0m",
            "\u001b[0;31mKeyError\u001b[0mTraceback (most recent call last)",
            "\u001b[0;32m<ipython-input-23-20f5112b74f3>\u001b[0m in \u001b[0;36m<module>\u001b[0;34m()\u001b[0m\n\u001b[1;32m      1\u001b[0m \u001b[0mTEST_SENTENCE\u001b[0m \u001b[0;34m=\u001b[0m \u001b[0;34m'which failure models can you identify?'\u001b[0m\u001b[0;34m\u001b[0m\u001b[0m\n\u001b[0;32m----> 2\u001b[0;31m \u001b[0mtranslated\u001b[0m \u001b[0;34m=\u001b[0m \u001b[0mtranslate_sentence\u001b[0m\u001b[0;34m(\u001b[0m\u001b[0mTEST_SENTENCE\u001b[0m\u001b[0;34m,\u001b[0m \u001b[0mrnn_encoder\u001b[0m\u001b[0;34m,\u001b[0m \u001b[0mrnn_decoder\u001b[0m\u001b[0;34m,\u001b[0m \u001b[0mNone\u001b[0m\u001b[0;34m,\u001b[0m \u001b[0margs\u001b[0m\u001b[0;34m)\u001b[0m\u001b[0;34m\u001b[0m\u001b[0m\n\u001b[0m\u001b[1;32m      3\u001b[0m \u001b[0;32mprint\u001b[0m\u001b[0;34m(\u001b[0m\u001b[0;34m\"source:\\t\\t{} \\ntranslated:\\t{}\"\u001b[0m\u001b[0;34m.\u001b[0m\u001b[0mformat\u001b[0m\u001b[0;34m(\u001b[0m\u001b[0mTEST_SENTENCE\u001b[0m\u001b[0;34m,\u001b[0m \u001b[0mtranslated\u001b[0m\u001b[0;34m)\u001b[0m\u001b[0;34m)\u001b[0m\u001b[0;34m\u001b[0m\u001b[0m\n",
            "\u001b[0;32m<ipython-input-4-de978f00c017>\u001b[0m in \u001b[0;36mtranslate_sentence\u001b[0;34m(sentence, encoder, decoder, idx_dict, opts)\u001b[0m\n\u001b[1;32m     12\u001b[0m     \u001b[0;32mif\u001b[0m \u001b[0midx_dict\u001b[0m \u001b[0;32mis\u001b[0m \u001b[0mNone\u001b[0m\u001b[0;34m:\u001b[0m\u001b[0;34m\u001b[0m\u001b[0m\n\u001b[1;32m     13\u001b[0m       \u001b[0mline_pairs\u001b[0m\u001b[0;34m,\u001b[0m \u001b[0mvocab_size\u001b[0m\u001b[0;34m,\u001b[0m \u001b[0midx_dict\u001b[0m \u001b[0;34m=\u001b[0m \u001b[0mload_data\u001b[0m\u001b[0;34m(\u001b[0m\u001b[0;34m)\u001b[0m\u001b[0;34m\u001b[0m\u001b[0m\n\u001b[0;32m---> 14\u001b[0;31m     \u001b[0;32mreturn\u001b[0m \u001b[0;34m' '\u001b[0m\u001b[0;34m.\u001b[0m\u001b[0mjoin\u001b[0m\u001b[0;34m(\u001b[0m\u001b[0;34m[\u001b[0m\u001b[0mtranslate\u001b[0m\u001b[0;34m(\u001b[0m\u001b[0mword\u001b[0m\u001b[0;34m,\u001b[0m \u001b[0mencoder\u001b[0m\u001b[0;34m,\u001b[0m \u001b[0mdecoder\u001b[0m\u001b[0;34m,\u001b[0m \u001b[0midx_dict\u001b[0m\u001b[0;34m,\u001b[0m \u001b[0mopts\u001b[0m\u001b[0;34m)\u001b[0m \u001b[0;32mfor\u001b[0m \u001b[0mword\u001b[0m \u001b[0;32min\u001b[0m \u001b[0msentence\u001b[0m\u001b[0;34m.\u001b[0m\u001b[0msplit\u001b[0m\u001b[0;34m(\u001b[0m\u001b[0;34m)\u001b[0m\u001b[0;34m]\u001b[0m\u001b[0;34m)\u001b[0m\u001b[0;34m\u001b[0m\u001b[0m\n\u001b[0m\u001b[1;32m     15\u001b[0m \u001b[0;34m\u001b[0m\u001b[0m\n\u001b[1;32m     16\u001b[0m \u001b[0;34m\u001b[0m\u001b[0m\n",
            "\u001b[0;32m<ipython-input-4-de978f00c017>\u001b[0m in \u001b[0;36mtranslate\u001b[0;34m(input_string, encoder, decoder, idx_dict, opts)\u001b[0m\n\u001b[1;32m     27\u001b[0m     \u001b[0mgen_string\u001b[0m \u001b[0;34m=\u001b[0m \u001b[0;34m''\u001b[0m\u001b[0;34m\u001b[0m\u001b[0m\n\u001b[1;32m     28\u001b[0m \u001b[0;34m\u001b[0m\u001b[0m\n\u001b[0;32m---> 29\u001b[0;31m     \u001b[0mindexes\u001b[0m \u001b[0;34m=\u001b[0m \u001b[0mstring_to_index_list\u001b[0m\u001b[0;34m(\u001b[0m\u001b[0minput_string\u001b[0m\u001b[0;34m,\u001b[0m \u001b[0mchar_to_index\u001b[0m\u001b[0;34m,\u001b[0m \u001b[0mend_token\u001b[0m\u001b[0;34m)\u001b[0m\u001b[0;34m\u001b[0m\u001b[0m\n\u001b[0m\u001b[1;32m     30\u001b[0m     \u001b[0mindexes\u001b[0m \u001b[0;34m=\u001b[0m \u001b[0mto_var\u001b[0m\u001b[0;34m(\u001b[0m\u001b[0mtorch\u001b[0m\u001b[0;34m.\u001b[0m\u001b[0mLongTensor\u001b[0m\u001b[0;34m(\u001b[0m\u001b[0mindexes\u001b[0m\u001b[0;34m)\u001b[0m\u001b[0;34m.\u001b[0m\u001b[0munsqueeze\u001b[0m\u001b[0;34m(\u001b[0m\u001b[0;36m0\u001b[0m\u001b[0;34m)\u001b[0m\u001b[0;34m,\u001b[0m \u001b[0mopts\u001b[0m\u001b[0;34m.\u001b[0m\u001b[0mcuda\u001b[0m\u001b[0;34m)\u001b[0m  \u001b[0;31m# Unsqueeze to make it like BS = 1\u001b[0m\u001b[0;34m\u001b[0m\u001b[0m\n\u001b[1;32m     31\u001b[0m \u001b[0;34m\u001b[0m\u001b[0m\n",
            "\u001b[0;32m<ipython-input-4-de978f00c017>\u001b[0m in \u001b[0;36mstring_to_index_list\u001b[0;34m(s, char_to_index, end_token)\u001b[0m\n\u001b[1;32m      2\u001b[0m     \"\"\"Converts a sentence into a list of indexes (for each character).\n\u001b[1;32m      3\u001b[0m     \"\"\"\n\u001b[0;32m----> 4\u001b[0;31m     \u001b[0;32mreturn\u001b[0m \u001b[0;34m[\u001b[0m\u001b[0mchar_to_index\u001b[0m\u001b[0;34m[\u001b[0m\u001b[0mchar\u001b[0m\u001b[0;34m]\u001b[0m \u001b[0;32mfor\u001b[0m \u001b[0mchar\u001b[0m \u001b[0;32min\u001b[0m \u001b[0ms\u001b[0m\u001b[0;34m]\u001b[0m \u001b[0;34m+\u001b[0m \u001b[0;34m[\u001b[0m\u001b[0mend_token\u001b[0m\u001b[0;34m]\u001b[0m  \u001b[0;31m# Adds the end token to each index list\u001b[0m\u001b[0;34m\u001b[0m\u001b[0m\n\u001b[0m\u001b[1;32m      5\u001b[0m \u001b[0;34m\u001b[0m\u001b[0m\n\u001b[1;32m      6\u001b[0m \u001b[0;34m\u001b[0m\u001b[0m\n",
            "\u001b[0;31mKeyError\u001b[0m: '?'"
          ]
        }
      ]
    },
    {
      "metadata": {
        "id": "7cP7nl5NRJbu",
        "colab_type": "text"
      },
      "cell_type": "markdown",
      "source": [
        "## RNN attention decoder"
      ]
    },
    {
      "metadata": {
        "id": "nKlyfbuPDXDR",
        "colab_type": "code",
        "outputId": "e8e55e99-8d9e-4ab9-dbf0-6186d944ff1e",
        "colab": {
          "base_uri": "https://localhost:8080/",
          "height": 2400
        }
      },
      "cell_type": "code",
      "source": [
        "TEST_SENTENCE = 'the air conditioning is working'\n",
        "\n",
        "args = AttrDict()\n",
        "args_dict = {\n",
        "              'cuda':True, \n",
        "              'nepochs':100, \n",
        "              'checkpoint_dir':\"checkpoints\", \n",
        "              'learning_rate':0.005, \n",
        "              'lr_decay':0.99,\n",
        "              'batch_size':64, \n",
        "              'hidden_size':20, \n",
        "              'decoder_type': 'rnn_attention', # options: rnn / rnn_attention / transformer\n",
        "              'attention_type': 'additive',  # options: additive / scaled_dot\n",
        "}\n",
        "args.update(args_dict)\n",
        "\n",
        "print_opts(args)\n",
        "start = time.time()\n",
        "rnn_attn_encoder, rnn_attn_decoder = train(args)\n",
        "end = time.time()\n",
        "\n",
        "translated = translate_sentence(TEST_SENTENCE, rnn_attn_encoder, rnn_attn_decoder, None, args)\n",
        "print(\"source:\\t\\t{} \\ntranslated:\\t{}\".format(TEST_SENTENCE, translated))\n",
        "print(\"training time:\\t\\t{} seconds\".format(end-start))"
      ],
      "execution_count": 0,
      "outputs": [
        {
          "output_type": "stream",
          "text": [
            "================================================================================\n",
            "                                      Opts                                      \n",
            "--------------------------------------------------------------------------------\n",
            "                            hidden_size: 20                                     \n",
            "                          learning_rate: 0.005                                  \n",
            "                             batch_size: 64                                     \n",
            "                                nepochs: 100                                    \n",
            "                                   cuda: 1                                      \n",
            "                         checkpoint_dir: checkpoints                            \n",
            "                           decoder_type: rnn_attention                          \n",
            "                               lr_decay: 0.99                                   \n",
            "                         attention_type: additive                               \n",
            "================================================================================\n",
            "================================================================================\n",
            "                                   Data Stats                                   \n",
            "--------------------------------------------------------------------------------\n",
            "('payment', 'aymentpay')\n",
            "('ordination', 'ordinationway')\n",
            "('amends', 'amendsway')\n",
            "('principally', 'incipallypray')\n",
            "('anybody', 'anybodyway')\n",
            "Num unique word pairs: 6387\n",
            "Vocabulary: ['EOS', '-', 'SOS', 'a', 'c', 'b', 'e', 'd', 'g', 'f', 'i', 'h', 'k', 'j', 'm', 'l', 'o', 'n', 'q', 'p', 's', 'r', 'u', 't', 'w', 'v', 'y', 'x', 'z']\n",
            "Vocab size: 29\n",
            "================================================================================\n",
            "Moved models to GPU!\n"
          ],
          "name": "stdout"
        },
        {
          "output_type": "stream",
          "text": [
            "/usr/local/lib/python2.7/dist-packages/torch/nn/functional.py:1332: UserWarning: nn.functional.sigmoid is deprecated. Use torch.sigmoid instead.\n",
            "  warnings.warn(\"nn.functional.sigmoid is deprecated. Use torch.sigmoid instead.\")\n",
            "/usr/local/lib/python2.7/dist-packages/torch/nn/functional.py:1320: UserWarning: nn.functional.tanh is deprecated. Use torch.tanh instead.\n",
            "  warnings.warn(\"nn.functional.tanh is deprecated. Use torch.tanh instead.\")\n",
            "/usr/local/lib/python2.7/dist-packages/torch/serialization.py:251: UserWarning: Couldn't retrieve source code for container of type RNNAttentionDecoder. It won't be checked for correctness upon loading.\n",
            "  \"type \" + obj.__name__ + \". It won't be checked \"\n",
            "/usr/local/lib/python2.7/dist-packages/torch/serialization.py:251: UserWarning: Couldn't retrieve source code for container of type MyGRUCell. It won't be checked for correctness upon loading.\n",
            "  \"type \" + obj.__name__ + \". It won't be checked \"\n",
            "/usr/local/lib/python2.7/dist-packages/torch/serialization.py:251: UserWarning: Couldn't retrieve source code for container of type AdditiveAttention. It won't be checked for correctness upon loading.\n",
            "  \"type \" + obj.__name__ + \". It won't be checked \"\n"
          ],
          "name": "stderr"
        },
        {
          "output_type": "stream",
          "text": [
            "Epoch:   0 | Train loss: 2.379 | Val loss: 1.967 | Gen: ereray ongeday onginininininininini onningay ongingingingay\n",
            "Epoch:   1 | Train loss: 1.866 | Val loss: 1.710 | Gen: ereray ay-ay ongingingay ingay ongingway\n",
            "Epoch:   2 | Train loss: 1.595 | Val loss: 1.463 | Gen: eray allay ongingay inday onglay\n",
            "Epoch:   3 | Train loss: 1.345 | Val loss: 1.254 | Gen: eray ainday onsintiningay issay ordingway\n",
            "Epoch:   4 | Train loss: 1.147 | Val loss: 1.082 | Gen: eray airray onsitiningay issay oringhay\n",
            "Epoch:   5 | Train loss: 0.991 | Val loss: 0.960 | Gen: esay airay onditingay isay orkingpay\n",
            "Epoch:   6 | Train loss: 0.828 | Val loss: 0.896 | Gen: esay airway ondiningway ishay orkingway\n",
            "Epoch:   7 | Train loss: 0.769 | Val loss: 0.738 | Gen: esay airway onditiongway ispay orkingpray\n",
            "Epoch:   8 | Train loss: 0.632 | Val loss: 0.638 | Gen: eway airway onditioningway ispay orkingway\n",
            "Epoch:   9 | Train loss: 0.607 | Val loss: 0.664 | Gen: eway airway ondiliongway ispray orkingway\n",
            "Epoch:  10 | Train loss: 0.511 | Val loss: 0.538 | Gen: eway airway onditioningway ispay orkingway\n",
            "Epoch:  11 | Train loss: 0.456 | Val loss: 0.577 | Gen: eway airfay onditioningway ispray orkingray\n",
            "Epoch:  12 | Train loss: 0.571 | Val loss: 0.512 | Gen: etray airway onditioningway ispray orkingway\n",
            "Epoch:  13 | Train loss: 0.434 | Val loss: 0.488 | Gen: ecay airway onditioningway ispray orkingway\n",
            "Epoch:  14 | Train loss: 0.431 | Val loss: 0.691 | Gen: etray airday onditioningway ispray orkingway\n",
            "Epoch:  15 | Train loss: 0.464 | Val loss: 0.592 | Gen: etray airway onditiningway issay orkingway\n",
            "Epoch:  16 | Train loss: 0.378 | Val loss: 0.431 | Gen: ecay airway onditioningway ispray orkingway\n",
            "Epoch:  17 | Train loss: 0.328 | Val loss: 0.396 | Gen: ecay airday onditioningway isway orkingway\n",
            "Epoch:  18 | Train loss: 0.313 | Val loss: 0.524 | Gen: efay airray onditioningway issay orkingway\n",
            "Epoch:  19 | Train loss: 0.439 | Val loss: 0.511 | Gen: ectay airway onditioningway isway orkingway\n",
            "Epoch:  20 | Train loss: 0.353 | Val loss: 0.386 | Gen: ecay airway onditioningway isway orkingway\n",
            "Epoch:  21 | Train loss: 0.284 | Val loss: 0.338 | Gen: ecay airday onditioningway isway orkingway\n",
            "Epoch:  22 | Train loss: 0.249 | Val loss: 0.304 | Gen: ecay airway onditioningway isway orkingway\n",
            "Epoch:  23 | Train loss: 0.227 | Val loss: 0.308 | Gen: eechay airway onditioningway isway owkingway\n",
            "Epoch:  24 | Train loss: 0.247 | Val loss: 0.285 | Gen: efay airway onditioningway isway orkingway\n",
            "Epoch:  25 | Train loss: 0.218 | Val loss: 0.348 | Gen: efay airway onditioningway issay orkingway\n",
            "Epoch:  26 | Train loss: 0.379 | Val loss: 0.488 | Gen: ecay airway onditioningray isway orfingpay\n",
            "Epoch:  27 | Train loss: 0.336 | Val loss: 0.272 | Gen: efay airway onditioningway isway orkingway\n",
            "Epoch:  28 | Train loss: 0.196 | Val loss: 0.245 | Gen: etay airway onditioningcay isway orkingway\n",
            "Epoch:  29 | Train loss: 0.170 | Val loss: 0.229 | Gen: efay airway onditioningway isway orkingway\n",
            "Epoch:  30 | Train loss: 0.142 | Val loss: 0.232 | Gen: efay airway onditioningway isway orkigway\n",
            "Epoch:  31 | Train loss: 0.127 | Val loss: 0.243 | Gen: efay airway onditioningway isway orkigway\n",
            "Epoch:  32 | Train loss: 0.120 | Val loss: 0.267 | Gen: ethay airway onditiongnay isway orkigway\n",
            "Epoch:  33 | Train loss: 0.193 | Val loss: 0.361 | Gen: ethay airway onditiongcay issay orknigway\n",
            "Epoch:  34 | Train loss: 0.279 | Val loss: 0.364 | Gen: ethay airway onditiongnay issay orkingway\n",
            "Epoch:  35 | Train loss: 0.192 | Val loss: 0.241 | Gen: ethay airway onditioningcay isway orkingway\n",
            "Epoch:  36 | Train loss: 0.123 | Val loss: 0.219 | Gen: ethay airway onditioningcay issay orkigway\n",
            "Epoch:  37 | Train loss: 0.122 | Val loss: 0.254 | Gen: ethay airway onditioningway issay orkingway\n",
            "Epoch:  38 | Train loss: 0.104 | Val loss: 0.198 | Gen: efay airway onditioningcay issay orkingway\n",
            "Epoch:  39 | Train loss: 0.086 | Val loss: 0.177 | Gen: efay airway onditioningcay isway orkingway\n",
            "Epoch:  40 | Train loss: 0.070 | Val loss: 0.202 | Gen: ethatghthhhthhthhthh airway onditioningcay isway orkingway\n",
            "Epoch:  41 | Train loss: 0.067 | Val loss: 0.148 | Gen: ethay airway onditioningcay isway orkingway\n",
            "Epoch:  42 | Train loss: 0.068 | Val loss: 0.175 | Gen: ethay airway onditioningcay isway orkingway\n",
            "Epoch:  43 | Train loss: 0.227 | Val loss: 0.284 | Gen: ethay airway onditioningray isway orkingway\n",
            "Epoch:  44 | Train loss: 0.124 | Val loss: 0.182 | Gen: ethay airway onditioningcay isway orkingway\n",
            "Epoch:  45 | Train loss: 0.063 | Val loss: 0.136 | Gen: ethay airway onditioningcay isway orkingway\n",
            "Epoch:  46 | Train loss: 0.047 | Val loss: 0.126 | Gen: ethay airway onditioningcay isway orkingway\n",
            "Epoch:  47 | Train loss: 0.038 | Val loss: 0.120 | Gen: ethay airway onditioningcay isway orkingway\n",
            "Epoch:  48 | Train loss: 0.032 | Val loss: 0.120 | Gen: ethay airway onditioningcay isway orkingway\n",
            "Epoch:  49 | Train loss: 0.027 | Val loss: 0.109 | Gen: ethay airway onditioningcay isway orkingway\n",
            "Epoch:  50 | Train loss: 0.024 | Val loss: 0.117 | Gen: ethay airway onditioningcay isway orkingway\n",
            "Epoch:  51 | Train loss: 0.023 | Val loss: 0.108 | Gen: ethay airway onditioningcay isway orkingway\n",
            "Epoch:  52 | Train loss: 0.022 | Val loss: 0.110 | Gen: ethay airway onditioningcay isway orkingway\n",
            "Epoch:  53 | Train loss: 0.020 | Val loss: 0.086 | Gen: ethay airway onditioningcay isway orkingway\n",
            "Epoch:  54 | Train loss: 0.019 | Val loss: 0.107 | Gen: ethay airway onditioningcay isway orkingway\n",
            "Epoch:  55 | Train loss: 0.032 | Val loss: 0.283 | Gen: ethay airway onditioningcay isway orkingway\n",
            "Epoch:  56 | Train loss: 0.158 | Val loss: 0.424 | Gen: ethay airray onditincingnay isway orkingway\n",
            "Epoch:  57 | Train loss: 0.316 | Val loss: 0.207 | Gen: ethay airray onditioncgay isway orkingway\n",
            "Epoch:  58 | Train loss: 0.084 | Val loss: 0.107 | Gen: ethay airway onditioncay-ingnay isway orkingway\n",
            "Epoch:  59 | Train loss: 0.037 | Val loss: 0.105 | Gen: ethay airway onditioningcay isway orkingway\n",
            "Epoch:  60 | Train loss: 0.025 | Val loss: 0.092 | Gen: ethay airway onditioncay-ingray isway orkingway\n",
            "Epoch:  61 | Train loss: 0.018 | Val loss: 0.087 | Gen: ethay airway onditioningcay isway orkingway\n",
            "Epoch:  62 | Train loss: 0.015 | Val loss: 0.084 | Gen: ethay airway onditioningcay isway orkingway\n",
            "Epoch:  63 | Train loss: 0.013 | Val loss: 0.082 | Gen: ethay airway onditioningcay isway orkingway\n",
            "Epoch:  64 | Train loss: 0.011 | Val loss: 0.082 | Gen: ethay airway onditioningcay isway orkingway\n",
            "Epoch:  65 | Train loss: 0.010 | Val loss: 0.079 | Gen: ethay airway onditioningcay isway orkingway\n",
            "Epoch:  66 | Train loss: 0.009 | Val loss: 0.079 | Gen: ethay airway onditioningcay isway orkingway\n",
            "Epoch:  67 | Train loss: 0.008 | Val loss: 0.077 | Gen: ethay airway onditioningcay isway orkingway\n",
            "Epoch:  68 | Train loss: 0.007 | Val loss: 0.077 | Gen: ethay airway onditioningcay isway orkingway\n",
            "Epoch:  69 | Train loss: 0.006 | Val loss: 0.075 | Gen: ethay airway onditioningcay isway orkingway\n",
            "Epoch:  70 | Train loss: 0.006 | Val loss: 0.076 | Gen: ethay airway onditioningcay isway orkingway\n",
            "Epoch:  71 | Train loss: 0.005 | Val loss: 0.076 | Gen: ethay airway onditioningcay isway orkingway\n",
            "Epoch:  72 | Train loss: 0.005 | Val loss: 0.076 | Gen: ethay airway onditioningcay isway orkingway\n",
            "Epoch:  73 | Train loss: 0.005 | Val loss: 0.075 | Gen: ethay airway onditioningcay isway orkingway\n",
            "Epoch:  74 | Train loss: 0.004 | Val loss: 0.079 | Gen: ethay airway onditioningcay isway orkingway\n",
            "Epoch:  75 | Train loss: 0.004 | Val loss: 0.074 | Gen: ethay airway onditioningcay isway orkingway\n",
            "Epoch:  76 | Train loss: 0.004 | Val loss: 0.079 | Gen: ethay airway onditioningcay isway orkingway\n",
            "Epoch:  77 | Train loss: 0.004 | Val loss: 0.074 | Gen: ethay airway onditioningcay isway orkingway\n",
            "Epoch:  78 | Train loss: 0.004 | Val loss: 0.071 | Gen: ethay airway onditioningcay isway orkingway\n",
            "Epoch:  79 | Train loss: 0.003 | Val loss: 0.071 | Gen: ethay airway onditioningcay isway orkingway\n",
            "Epoch:  80 | Train loss: 0.003 | Val loss: 0.078 | Gen: ethay airway onditioningcay isway orkingway\n",
            "Epoch:  81 | Train loss: 0.003 | Val loss: 0.072 | Gen: ethay airway onditioningcay isway orkingway\n",
            "Epoch:  82 | Train loss: 0.002 | Val loss: 0.078 | Gen: ethay airway onditioningcay isway orkingway\n",
            "Epoch:  83 | Train loss: 0.002 | Val loss: 0.074 | Gen: ethay airway onditioningcay isway orkingway\n",
            "Epoch:  84 | Train loss: 0.002 | Val loss: 0.077 | Gen: ethay airway onditioningcay isway orkingway\n",
            "Epoch:  85 | Train loss: 0.249 | Val loss: 0.369 | Gen: ethay airway onditionctay isway orkingway\n",
            "Epoch:  86 | Train loss: 0.143 | Val loss: 0.143 | Gen: ethay airway onditioningcay isway orkingway\n",
            "Epoch:  87 | Train loss: 0.032 | Val loss: 0.089 | Gen: ethay airway onditioningcay isway orkingway\n",
            "Epoch:  88 | Train loss: 0.019 | Val loss: 0.113 | Gen: ethay airray onditioncgay issay orkingway\n",
            "Epoch:  89 | Train loss: 0.016 | Val loss: 0.102 | Gen: ethay airway onditioningcay isway orkingway\n",
            "Epoch:  90 | Train loss: 0.011 | Val loss: 0.077 | Gen: ethay airway onditioningcay isway orkingway\n",
            "Epoch:  91 | Train loss: 0.007 | Val loss: 0.073 | Gen: ethay airway onditioningcay isway orkingway\n",
            "Epoch:  92 | Train loss: 0.005 | Val loss: 0.072 | Gen: ethay airway onditioningcay isway orkingway\n",
            "Epoch:  93 | Train loss: 0.005 | Val loss: 0.068 | Gen: ethay airway onditioningcay isway orkingway\n",
            "Epoch:  94 | Train loss: 0.004 | Val loss: 0.068 | Gen: ethay airway onditioningcay isway orkingway\n",
            "Epoch:  95 | Train loss: 0.004 | Val loss: 0.067 | Gen: ethay airway onditioningcay isway orkingway\n",
            "Epoch:  96 | Train loss: 0.003 | Val loss: 0.067 | Gen: ethay airway onditioningcay isway orkingway\n",
            "Epoch:  97 | Train loss: 0.003 | Val loss: 0.067 | Gen: ethay airway onditioningcay isway orkingway\n",
            "Epoch:  98 | Train loss: 0.003 | Val loss: 0.066 | Gen: ethay airway onditioningcay isway orkingway\n",
            "Epoch:  99 | Train loss: 0.003 | Val loss: 0.066 | Gen: ethay airway onditioningcay isway orkingway\n",
            "source:\t\tthe air conditioning is working \n",
            "translated:\tethay airway onditioningcay isway orkingway\n",
            "training time:\t\t1613.33303618 seconds\n"
          ],
          "name": "stdout"
        }
      ]
    },
    {
      "metadata": {
        "id": "vE-hKCxhF3iR",
        "colab_type": "code",
        "outputId": "8464ebb9-822f-47a5-f883-097bca4e7885",
        "colab": {
          "base_uri": "https://localhost:8080/",
          "height": 71
        }
      },
      "cell_type": "code",
      "source": [
        "TEST_SENTENCE = 'a i - completely psychological - either argument - shopping challenge - well-mannered high-achieving pseudo-robots'\n",
        "translated = translate_sentence(TEST_SENTENCE, rnn_attn_encoder, rnn_attn_decoder, None, args)\n",
        "print(\"source:\\t\\t{} \\ntranslated:\\t{}\".format(TEST_SENTENCE, translated))"
      ],
      "execution_count": 0,
      "outputs": [
        {
          "output_type": "stream",
          "text": [
            "source:\t\ta i - completely psychological - either argument - shopping challenge - well-mannered high-achieving pseudo-robots \n",
            "translated:\taway iway - ompletelycay ycholocicalspay - eitherway argumentway - oppingshay allengechay - ellway-anneredmay ighhay-achievingway eudopay-obstray\n"
          ],
          "name": "stdout"
        }
      ]
    },
    {
      "metadata": {
        "id": "duLjjEyrbbSg",
        "colab_type": "text"
      },
      "cell_type": "markdown",
      "source": [
        "## RNN scaled dot-product attention decoder\n"
      ]
    },
    {
      "metadata": {
        "id": "DDubbI8ubdgg",
        "colab_type": "code",
        "outputId": "5562161d-60b3-40e6-f960-3b1765773b5a",
        "colab": {
          "base_uri": "https://localhost:8080/",
          "height": 2264
        }
      },
      "cell_type": "code",
      "source": [
        "TEST_SENTENCE = 'the air conditioning is working'\n",
        "\n",
        "args = AttrDict()\n",
        "args_dict = {\n",
        "              'cuda':True, \n",
        "              'nepochs':100, \n",
        "              'checkpoint_dir':\"checkpoints\", \n",
        "              'learning_rate':0.005, \n",
        "              'lr_decay':0.99,\n",
        "              'batch_size':64, \n",
        "              'hidden_size':20, \n",
        "              'decoder_type': 'rnn_attention', # options: rnn / rnn_attention / transformer\n",
        "              'attention_type': 'scaled_dot',  # options: additive / scaled_dot\n",
        "}\n",
        "args.update(args_dict)\n",
        "\n",
        "print_opts(args)\n",
        "start = time.time()\n",
        "rnn_attn_scaled_encoder, rnn_attn_scaled_decoder = train(args)\n",
        "end = time.time()\n",
        "\n",
        "translated = translate_sentence(TEST_SENTENCE, rnn_attn_scaled_encoder, rnn_attn_scaled_decoder, None, args)\n",
        "print(\"source:\\t\\t{} \\ntranslated:\\t{}\".format(TEST_SENTENCE, translated))\n",
        "print(\"training time:\\t\\t{} seconds\".format(end-start))"
      ],
      "execution_count": 0,
      "outputs": [
        {
          "output_type": "stream",
          "text": [
            "================================================================================\n",
            "                                      Opts                                      \n",
            "--------------------------------------------------------------------------------\n",
            "                            hidden_size: 20                                     \n",
            "                          learning_rate: 0.005                                  \n",
            "                             batch_size: 64                                     \n",
            "                                nepochs: 100                                    \n",
            "                                   cuda: 1                                      \n",
            "                         checkpoint_dir: checkpoints                            \n",
            "                           decoder_type: rnn_attention                          \n",
            "                               lr_decay: 0.99                                   \n",
            "                         attention_type: scaled_dot                             \n",
            "================================================================================\n",
            "================================================================================\n",
            "                                   Data Stats                                   \n",
            "--------------------------------------------------------------------------------\n",
            "('payment', 'aymentpay')\n",
            "('ordination', 'ordinationway')\n",
            "('amends', 'amendsway')\n",
            "('principally', 'incipallypray')\n",
            "('anybody', 'anybodyway')\n",
            "Num unique word pairs: 6387\n",
            "Vocabulary: ['EOS', '-', 'SOS', 'a', 'c', 'b', 'e', 'd', 'g', 'f', 'i', 'h', 'k', 'j', 'm', 'l', 'o', 'n', 'q', 'p', 's', 'r', 'u', 't', 'w', 'v', 'y', 'x', 'z']\n",
            "Vocab size: 29\n",
            "================================================================================\n",
            "Moved models to GPU!\n"
          ],
          "name": "stdout"
        },
        {
          "output_type": "stream",
          "text": [
            "/usr/local/lib/python2.7/dist-packages/torch/serialization.py:251: UserWarning: Couldn't retrieve source code for container of type ScaledDotAttention. It won't be checked for correctness upon loading.\n",
            "  \"type \" + obj.__name__ + \". It won't be checked \"\n"
          ],
          "name": "stderr"
        },
        {
          "output_type": "stream",
          "text": [
            "Epoch:   0 | Train loss: 2.450 | Val loss: 2.035 | Gen: eray eray ererereray ereray ererereray\n",
            "Epoch:   1 | Train loss: 1.932 | Val loss: 1.805 | Gen: ertertay areray ingingingway ingsay onginghay\n",
            "Epoch:   2 | Train loss: 1.674 | Val loss: 1.576 | Gen: ettay arsiay ongingingingingingin iissay ounginghay\n",
            "Epoch:   3 | Train loss: 1.454 | Val loss: 1.368 | Gen: erthay aiciay ontingingay isssay ougingway\n",
            "Epoch:   4 | Train loss: 1.249 | Val loss: 1.179 | Gen: erthay airray ontingingway isscay oringingway\n",
            "Epoch:   5 | Train loss: 1.055 | Val loss: 1.031 | Gen: erthay airray onsitingway issay orkingway\n",
            "Epoch:   6 | Train loss: 0.958 | Val loss: 0.967 | Gen: ewtay airway ontitingway iscay orkingway\n",
            "Epoch:   7 | Train loss: 0.839 | Val loss: 0.852 | Gen: eway airway onsitingway isway orkingway\n",
            "Epoch:   8 | Train loss: 0.734 | Val loss: 0.750 | Gen: etthay airway onditiongway iscay orkingway\n",
            "Epoch:   9 | Train loss: 0.646 | Val loss: 0.659 | Gen: eway airway onditiongway isimay orkingway\n",
            "Epoch:  10 | Train loss: 0.578 | Val loss: 0.672 | Gen: etay airray onditiongway isimay orkingway\n",
            "Epoch:  11 | Train loss: 0.581 | Val loss: 0.653 | Gen: eway airday onditiongway ismimsay orkingway\n",
            "Epoch:  12 | Train loss: 0.546 | Val loss: 0.676 | Gen: etshay airway onditioncay iscay orkingway\n",
            "Epoch:  13 | Train loss: 0.497 | Val loss: 0.586 | Gen: eway airway onditiongway isway orkingway\n",
            "Epoch:  14 | Train loss: 0.424 | Val loss: 0.503 | Gen: etay airway onditioncgay isimway orkingway\n",
            "Epoch:  15 | Train loss: 0.383 | Val loss: 0.538 | Gen: etthay airway onditiongway isway orkingway\n",
            "Epoch:  16 | Train loss: 0.330 | Val loss: 0.391 | Gen: etthay airway onditiongway isway orkingway\n",
            "Epoch:  17 | Train loss: 0.289 | Val loss: 0.371 | Gen: etthay airway onditiongcay isway orkingway\n",
            "Epoch:  18 | Train loss: 0.293 | Val loss: 0.509 | Gen: etthay airway onditiongcay isway orkingway\n",
            "Epoch:  19 | Train loss: 0.315 | Val loss: 0.452 | Gen: epthay airway onditiongway isway orkingway\n",
            "Epoch:  20 | Train loss: 0.258 | Val loss: 0.421 | Gen: ethay airway onditiongcay isway orkingway\n",
            "Epoch:  21 | Train loss: 0.221 | Val loss: 0.356 | Gen: ethay airway onditiongcay isway orkingway\n",
            "Epoch:  22 | Train loss: 0.191 | Val loss: 0.328 | Gen: etay airway onditiongcay isway orkingway\n",
            "Epoch:  23 | Train loss: 0.182 | Val loss: 0.353 | Gen: etay airway onditiongcay isway orkingway\n",
            "Epoch:  24 | Train loss: 0.210 | Val loss: 0.383 | Gen: etay airyway onditiongcay isway orkingway\n",
            "Epoch:  25 | Train loss: 0.213 | Val loss: 0.338 | Gen: ethay airway onditiongcay isway orkingway\n",
            "Epoch:  26 | Train loss: 0.200 | Val loss: 0.376 | Gen: etay airay onditiongway isway orkingway\n",
            "Epoch:  27 | Train loss: 0.164 | Val loss: 0.337 | Gen: ethay airay onditionccay isway orkingway\n",
            "Epoch:  28 | Train loss: 0.264 | Val loss: 0.440 | Gen: ethay airway onditiongway isway orkingway\n",
            "Epoch:  29 | Train loss: 0.183 | Val loss: 0.270 | Gen: ethay airway onditiongcay isincay orkingway\n",
            "Epoch:  30 | Train loss: 0.143 | Val loss: 0.252 | Gen: ethay airway onditiongcay isway orkingway\n",
            "Epoch:  31 | Train loss: 0.161 | Val loss: 0.253 | Gen: ethay airway onditiongcay isway orkingway\n",
            "Epoch:  32 | Train loss: 0.189 | Val loss: 0.314 | Gen: etay airway onditiongcay isway orkingway\n",
            "Epoch:  33 | Train loss: 0.180 | Val loss: 0.246 | Gen: ethay airway onditioncway isway orkingway\n",
            "Epoch:  34 | Train loss: 0.132 | Val loss: 0.212 | Gen: ethay airway onditioningcay isway orkingway\n",
            "Epoch:  35 | Train loss: 0.103 | Val loss: 0.247 | Gen: ethay airway onditiongingcay isway orkingway\n",
            "Epoch:  36 | Train loss: 0.088 | Val loss: 0.212 | Gen: ethay airway onditioningcay isway orkingway\n",
            "Epoch:  37 | Train loss: 0.077 | Val loss: 0.196 | Gen: ethay airway onditioningcay isway orkingway\n",
            "Epoch:  38 | Train loss: 0.068 | Val loss: 0.184 | Gen: ethay airway onditioningcay isway orkingway\n",
            "Epoch:  39 | Train loss: 0.087 | Val loss: 0.220 | Gen: ethay airway onditioningcay isway orkingway\n",
            "Epoch:  40 | Train loss: 0.175 | Val loss: 0.440 | Gen: ethay airay onditiongway isiy orkingway\n",
            "Epoch:  41 | Train loss: 0.179 | Val loss: 0.244 | Gen: etay airway onditioningcay isway orkingway\n",
            "Epoch:  42 | Train loss: 0.095 | Val loss: 0.193 | Gen: ethay airway onditioningcay isway orkingway\n",
            "Epoch:  43 | Train loss: 0.067 | Val loss: 0.188 | Gen: ethay airway onditioningcay isway orkingway\n",
            "Epoch:  44 | Train loss: 0.059 | Val loss: 0.191 | Gen: ethay airway onditioningcay isway orkingway\n",
            "Epoch:  45 | Train loss: 0.052 | Val loss: 0.193 | Gen: ethay airway onditioningcay isway orkingway\n",
            "Epoch:  46 | Train loss: 0.047 | Val loss: 0.180 | Gen: ethay airway onditioningcay isway orkingway\n",
            "Epoch:  47 | Train loss: 0.044 | Val loss: 0.183 | Gen: ethay airway onditioningcay isway orkingway\n",
            "Epoch:  48 | Train loss: 0.046 | Val loss: 0.181 | Gen: ethay airway onditioningcay isway orkingway\n",
            "Epoch:  49 | Train loss: 0.041 | Val loss: 0.185 | Gen: ethay airway onditioningcay isway orkingway\n",
            "Epoch:  50 | Train loss: 0.040 | Val loss: 0.172 | Gen: ethay airway onditioningcay isway orkingway\n",
            "Epoch:  51 | Train loss: 0.070 | Val loss: 0.226 | Gen: etay airway onditioningcay isway orkingway\n",
            "Epoch:  52 | Train loss: 0.216 | Val loss: 0.249 | Gen: ethay airway onditioncay isway orkingway\n",
            "Epoch:  53 | Train loss: 0.108 | Val loss: 0.201 | Gen: ethay airway onditiongcay isway orkingway\n",
            "Epoch:  54 | Train loss: 0.080 | Val loss: 0.183 | Gen: ethay airway onditiongway isway orkingway\n",
            "Epoch:  55 | Train loss: 0.172 | Val loss: 0.395 | Gen: epthay airway onditioncay isway orkingway\n",
            "Epoch:  56 | Train loss: 0.125 | Val loss: 0.216 | Gen: ethay airway onditiongignay isiy orkingway\n",
            "Epoch:  57 | Train loss: 0.085 | Val loss: 0.179 | Gen: ethay airway onditioncay isway orkingway\n",
            "Epoch:  58 | Train loss: 0.053 | Val loss: 0.156 | Gen: ethay airway onditioncay isway orkingway\n",
            "Epoch:  59 | Train loss: 0.040 | Val loss: 0.153 | Gen: ethay airway onditioningcay isway orkingway\n",
            "Epoch:  60 | Train loss: 0.087 | Val loss: 0.190 | Gen: ethay airway onditioncay isway orkingway\n",
            "Epoch:  61 | Train loss: 0.073 | Val loss: 0.208 | Gen: ethay airway onditiongingcay isway orkingway\n",
            "Epoch:  62 | Train loss: 0.057 | Val loss: 0.158 | Gen: ethay airway onditioningcay isway orkingway\n",
            "Epoch:  63 | Train loss: 0.043 | Val loss: 0.146 | Gen: ethay airway onditioningcay isway orkingway\n",
            "Epoch:  64 | Train loss: 0.035 | Val loss: 0.137 | Gen: ethay airway onditioningcay isway orkingway\n",
            "Epoch:  65 | Train loss: 0.031 | Val loss: 0.141 | Gen: ethay airway onditioningcay isway orkingway\n",
            "Epoch:  66 | Train loss: 0.027 | Val loss: 0.139 | Gen: ethay airway onditioningcay isway orkingway\n",
            "Epoch:  67 | Train loss: 0.029 | Val loss: 0.138 | Gen: ethay airway onditioningcay isway orkingway\n",
            "Epoch:  68 | Train loss: 0.089 | Val loss: 0.296 | Gen: ethay airway onditioningcay isway orkingway\n",
            "Epoch:  69 | Train loss: 0.222 | Val loss: 0.460 | Gen: ethay airray onditiongway isway orkingway\n",
            "Epoch:  70 | Train loss: 0.148 | Val loss: 0.208 | Gen: ethay airway onditiongigway isway orkingway\n",
            "Epoch:  71 | Train loss: 0.138 | Val loss: 0.263 | Gen: ethay airway onditioniningway isway orkingway\n",
            "Epoch:  72 | Train loss: 0.095 | Val loss: 0.182 | Gen: ethay airway onditioncay isway orkingway\n",
            "Epoch:  73 | Train loss: 0.060 | Val loss: 0.164 | Gen: ethay airway onditioningcay isway orkingway\n",
            "Epoch:  74 | Train loss: 0.040 | Val loss: 0.151 | Gen: ethay airway onditioningcay isway orkingway\n",
            "Epoch:  75 | Train loss: 0.032 | Val loss: 0.146 | Gen: ethay airway onditioningcay isway orkingway\n",
            "Epoch:  76 | Train loss: 0.028 | Val loss: 0.140 | Gen: ethay airway onditioningcay isway orkingway\n",
            "Epoch:  77 | Train loss: 0.026 | Val loss: 0.138 | Gen: ethay airway onditioningcay isway orkingway\n",
            "Epoch:  78 | Train loss: 0.024 | Val loss: 0.138 | Gen: ethay airway onditioningcay isway orkingway\n",
            "Epoch:  79 | Train loss: 0.023 | Val loss: 0.136 | Gen: ethay airway onditioningcay isway orkingway\n",
            "Epoch:  80 | Train loss: 0.021 | Val loss: 0.137 | Gen: ethay airway onditioningcay isway orkingway\n",
            "Epoch:  81 | Train loss: 0.020 | Val loss: 0.137 | Gen: ethay airway onditioningcay isway orkingway\n",
            "Epoch:  82 | Train loss: 0.020 | Val loss: 0.141 | Gen: ethay airway onditioningcay isway orkingway\n",
            "Epoch:  83 | Train loss: 0.018 | Val loss: 0.140 | Gen: ethay airway onditioningcay isway orkingway\n",
            "Epoch:  84 | Train loss: 0.018 | Val loss: 0.141 | Gen: ethay airway onditioningcay isway orkingway\n",
            "Epoch:  85 | Train loss: 0.017 | Val loss: 0.145 | Gen: ethay airway onditioningcay isway orkingway\n",
            "Epoch:  86 | Train loss: 0.017 | Val loss: 0.145 | Gen: ethay airway onditioningcay isway orkingway\n",
            "Epoch:  87 | Train loss: 0.017 | Val loss: 0.146 | Gen: ethay airway onditioningcay isway orkingway\n",
            "Epoch:  88 | Train loss: 0.062 | Val loss: 0.212 | Gen: ethay airway onditionigscay isiy orkingway\n",
            "Epoch:  89 | Train loss: 0.070 | Val loss: 0.188 | Gen: ethay airway onditiongwcay isway orkingway\n",
            "Epoch:  90 | Train loss: 0.047 | Val loss: 0.157 | Gen: ethay airway onditioningcay isway orkingway\n",
            "Epoch:  91 | Train loss: 0.032 | Val loss: 0.162 | Gen: ethay airway onditioningcay isway orkingway\n",
            "Epoch:  92 | Train loss: 0.037 | Val loss: 0.169 | Gen: ethay airway onditioningcay isway orkingway\n",
            "Epoch:  93 | Train loss: 0.041 | Val loss: 0.157 | Gen: ethay airway onditioncancay isway orkingway\n",
            "Epoch:  94 | Train loss: 0.026 | Val loss: 0.138 | Gen: ethay airway onditioningcay isway orkingway\n",
            "Epoch:  95 | Train loss: 0.020 | Val loss: 0.122 | Gen: ethay airway onditioningcay isway orkingway\n",
            "Epoch:  96 | Train loss: 0.016 | Val loss: 0.123 | Gen: ethay airway onditioningcay isway orkingway\n",
            "Epoch:  97 | Train loss: 0.015 | Val loss: 0.122 | Gen: ethay airway onditioningcay isway orkingway\n",
            "Epoch:  98 | Train loss: 0.013 | Val loss: 0.124 | Gen: ethay airway onditioningcay isway orkingway\n",
            "Epoch:  99 | Train loss: 0.012 | Val loss: 0.123 | Gen: ethay airway onditioningcay isway orkingway\n",
            "source:\t\tthe air conditioning is working \n",
            "translated:\tethay airway onditioningcay isway orkingway\n",
            "training time:\t\t1712.47531915 seconds\n"
          ],
          "name": "stdout"
        }
      ]
    },
    {
      "metadata": {
        "id": "w0cAjzEf7Zps",
        "colab_type": "code",
        "outputId": "3f330f90-8563-4290-f688-08a6881ea6e9",
        "colab": {
          "base_uri": "https://localhost:8080/",
          "height": 71
        }
      },
      "cell_type": "code",
      "source": [
        "TEST_SENTENCE = 'a i - completely psychological - either argument - shopping challenge - well-mannered high-achieving pseudo-robots'\n",
        "translated = translate_sentence(TEST_SENTENCE, rnn_attn_scaled_encoder, rnn_attn_scaled_decoder, None, args)\n",
        "print(\"source:\\t\\t{} \\ntranslated:\\t{}\".format(TEST_SENTENCE, translated))"
      ],
      "execution_count": 0,
      "outputs": [
        {
          "output_type": "stream",
          "text": [
            "source:\t\ta i - completely psychological - either argument - shopping challenge - well-mannered high-achieving pseudo-robots \n",
            "translated:\taway iway -- ompletelycay ychllglway -- eitherway argumentway -- oppingshay allengechay -- ellway-annay ighhay-achiingnay eudoday-otspay\n"
          ],
          "name": "stdout"
        }
      ]
    },
    {
      "metadata": {
        "id": "X8FaZZUWRpY9",
        "colab_type": "text"
      },
      "cell_type": "markdown",
      "source": [
        "## Transformer"
      ]
    },
    {
      "metadata": {
        "id": "Ik5rx9qw9KCg",
        "colab_type": "code",
        "outputId": "7ad747cb-24a5-4631-dbcf-666b1ded913a",
        "colab": {
          "base_uri": "https://localhost:8080/",
          "height": 2298
        }
      },
      "cell_type": "code",
      "source": [
        "TEST_SENTENCE = 'the air conditioning is working'\n",
        "\n",
        "args = AttrDict()\n",
        "args_dict = {\n",
        "              'cuda':True, \n",
        "              'nepochs':100, \n",
        "              'checkpoint_dir':\"checkpoints\", \n",
        "              'learning_rate':0.005, \n",
        "              'lr_decay':0.99,\n",
        "              'batch_size':64, \n",
        "              'hidden_size':20, \n",
        "              'decoder_type': 'transformer', # options: rnn / rnn_attention / transformer\n",
        "              'num_transformer_layers': 3,\n",
        "}\n",
        "args.update(args_dict)\n",
        "\n",
        "print_opts(args)\n",
        "start = time.time()\n",
        "transformer_encoder, transformer_decoder = train(args)\n",
        "end = time.time()\n",
        "\n",
        "translated = translate_sentence(TEST_SENTENCE, transformer_encoder, transformer_decoder, None, args)\n",
        "print(\"source:\\t\\t{} \\ntranslated:\\t{}\".format(TEST_SENTENCE, translated))\n",
        "print(\"training time:\\t\\t{} seconds\".format(end-start))"
      ],
      "execution_count": 0,
      "outputs": [
        {
          "output_type": "stream",
          "text": [
            "================================================================================\n",
            "                                      Opts                                      \n",
            "--------------------------------------------------------------------------------\n",
            "                            hidden_size: 20                                     \n",
            "                          learning_rate: 0.005                                  \n",
            "                 num_transformer_layers: 3                                      \n",
            "                             batch_size: 64                                     \n",
            "                                nepochs: 100                                    \n",
            "                                   cuda: 1                                      \n",
            "                         checkpoint_dir: checkpoints                            \n",
            "                           decoder_type: transformer                            \n",
            "                               lr_decay: 0.99                                   \n",
            "================================================================================\n",
            "================================================================================\n",
            "                                   Data Stats                                   \n",
            "--------------------------------------------------------------------------------\n",
            "('payment', 'aymentpay')\n",
            "('ordination', 'ordinationway')\n",
            "('amends', 'amendsway')\n",
            "('principally', 'incipallypray')\n",
            "('anybody', 'anybodyway')\n",
            "Num unique word pairs: 6387\n",
            "Vocabulary: ['EOS', '-', 'SOS', 'a', 'c', 'b', 'e', 'd', 'g', 'f', 'i', 'h', 'k', 'j', 'm', 'l', 'o', 'n', 'q', 'p', 's', 'r', 'u', 't', 'w', 'v', 'y', 'x', 'z']\n",
            "Vocab size: 29\n",
            "================================================================================\n",
            "Moved models to GPU!\n"
          ],
          "name": "stdout"
        },
        {
          "output_type": "stream",
          "text": [
            "/usr/local/lib/python2.7/dist-packages/torch/serialization.py:251: UserWarning: Couldn't retrieve source code for container of type TransformerDecoder. It won't be checked for correctness upon loading.\n",
            "  \"type \" + obj.__name__ + \". It won't be checked \"\n",
            "/usr/local/lib/python2.7/dist-packages/torch/serialization.py:251: UserWarning: Couldn't retrieve source code for container of type CausalScaledDotAttention. It won't be checked for correctness upon loading.\n",
            "  \"type \" + obj.__name__ + \". It won't be checked \"\n"
          ],
          "name": "stderr"
        },
        {
          "output_type": "stream",
          "text": [
            "Epoch:   0 | Train loss: 2.213 | Val loss: 1.772 | Gen: ettttttttttttttttttt eray oncay issisisisisisissisis oray\n",
            "Epoch:   1 | Train loss: 1.583 | Val loss: 1.436 | Gen: ettttttttttttrtttttt airararassay oninginday isissisisisisissisis orsinghay\n",
            "Epoch:   2 | Train loss: 1.214 | Val loss: 1.185 | Gen: ehthay airairway ingtinday isisissisisisisissay orway\n",
            "Epoch:   3 | Train loss: 0.957 | Val loss: 0.892 | Gen: ethay airairairairairairai onititingcay ississay orkingway\n",
            "Epoch:   4 | Train loss: 0.751 | Val loss: 0.739 | Gen: ethay airairay onitindgway isay orkingway\n",
            "Epoch:   5 | Train loss: 0.613 | Val loss: 0.597 | Gen: ethay airway onditiondcay isay orkingway\n",
            "Epoch:   6 | Train loss: 0.488 | Val loss: 0.523 | Gen: ethay airway onditindgcay isway orkingway\n",
            "Epoch:   7 | Train loss: 0.528 | Val loss: 0.552 | Gen: ethay airway onditiongcay isay orkingway\n",
            "Epoch:   8 | Train loss: 0.429 | Val loss: 0.430 | Gen: ethay airway onitingcay isway orkingway\n",
            "Epoch:   9 | Train loss: 0.327 | Val loss: 0.382 | Gen: ethay airway onditingcay isway orkingway\n",
            "Epoch:  10 | Train loss: 0.278 | Val loss: 0.373 | Gen: ethay airway ondioningcay isway orkingway\n",
            "Epoch:  11 | Train loss: 0.267 | Val loss: 0.342 | Gen: ethay airway onditingcay isway orkingway\n",
            "Epoch:  12 | Train loss: 0.238 | Val loss: 0.372 | Gen: ethay airway onditiongcay isay orkingway\n",
            "Epoch:  13 | Train loss: 0.256 | Val loss: 0.314 | Gen: ethay airway onditiongcay isway orkingway\n",
            "Epoch:  14 | Train loss: 0.233 | Val loss: 0.333 | Gen: ethay airway onditiongcay isay orkingway\n",
            "Epoch:  15 | Train loss: 0.188 | Val loss: 0.238 | Gen: ethay airway onditiongcay isway orkingway\n",
            "Epoch:  16 | Train loss: 0.146 | Val loss: 0.237 | Gen: ethay airway onditiongcay isway orkingway\n",
            "Epoch:  17 | Train loss: 0.172 | Val loss: 0.237 | Gen: ethay airway ondiongcay isway orkingway\n",
            "Epoch:  18 | Train loss: 0.172 | Val loss: 0.261 | Gen: ethay airway onditiongcay isway orkingway\n",
            "Epoch:  19 | Train loss: 0.118 | Val loss: 0.201 | Gen: ethay airway onditingcay isway orkingway\n",
            "Epoch:  20 | Train loss: 0.166 | Val loss: 0.204 | Gen: ethay airway onditiongcay isway orkingway\n",
            "Epoch:  21 | Train loss: 0.117 | Val loss: 0.192 | Gen: ethay airway onditiongcay isway orkingway\n",
            "Epoch:  22 | Train loss: 0.081 | Val loss: 0.148 | Gen: ethay airway onditiongcay isway orkingway\n",
            "Epoch:  23 | Train loss: 0.069 | Val loss: 0.147 | Gen: ethay airway onditiongcay isway orkingway\n",
            "Epoch:  24 | Train loss: 0.084 | Val loss: 0.202 | Gen: ethay airway onditiongcay isway orkingway\n",
            "Epoch:  25 | Train loss: 0.231 | Val loss: 0.221 | Gen: ethay airway onditiongcay isway orkingway\n",
            "Epoch:  26 | Train loss: 0.127 | Val loss: 0.201 | Gen: ethay airway onditiongcay isway orkingway\n",
            "Epoch:  27 | Train loss: 0.156 | Val loss: 0.280 | Gen: ethay airway onditiongcay isway orkingway\n",
            "Epoch:  28 | Train loss: 0.162 | Val loss: 0.155 | Gen: ethay airway onditiongcay isway orkingway\n",
            "Epoch:  29 | Train loss: 0.105 | Val loss: 0.120 | Gen: ethay airway onditiongcay isway orkingway\n",
            "Epoch:  30 | Train loss: 0.081 | Val loss: 0.135 | Gen: ethay airway onditiongcay isway orkingway\n",
            "Epoch:  31 | Train loss: 0.051 | Val loss: 0.098 | Gen: ethay airway onditiongcay isway orkingway\n",
            "Epoch:  32 | Train loss: 0.099 | Val loss: 0.171 | Gen: ethay airway onditiongcay isway orkingway\n",
            "Epoch:  33 | Train loss: 0.101 | Val loss: 0.155 | Gen: ethay airway onditiongcay issway orkingway\n",
            "Epoch:  34 | Train loss: 0.106 | Val loss: 0.203 | Gen: ethay airway onditiongcay isway orkingway\n",
            "Epoch:  35 | Train loss: 0.149 | Val loss: 0.248 | Gen: ethay airway onditiongcay isway orkingway\n",
            "Epoch:  36 | Train loss: 0.147 | Val loss: 0.145 | Gen: ethay airay onditiongcay isway orkingway\n",
            "Epoch:  37 | Train loss: 0.069 | Val loss: 0.124 | Gen: ethay airway onditioniongcay isway orkingway\n",
            "Epoch:  38 | Train loss: 0.073 | Val loss: 0.163 | Gen: ethay airway onditiongcay isway orkingway\n",
            "Epoch:  39 | Train loss: 0.075 | Val loss: 0.113 | Gen: ethay airway onditioningcay isway orkingway\n",
            "Epoch:  40 | Train loss: 0.041 | Val loss: 0.101 | Gen: ethay airway onditiongcay isway orkingway\n",
            "Epoch:  41 | Train loss: 0.029 | Val loss: 0.086 | Gen: ethay airway onditiongcay isway orkingway\n",
            "Epoch:  42 | Train loss: 0.029 | Val loss: 0.110 | Gen: ethay airway onditiongcay isway orkingway\n",
            "Epoch:  43 | Train loss: 0.036 | Val loss: 0.103 | Gen: ethay airway onditiongcay isway orkingway\n",
            "Epoch:  44 | Train loss: 0.031 | Val loss: 0.125 | Gen: ethay airway onditioniongcay isway orkingway\n",
            "Epoch:  45 | Train loss: 0.034 | Val loss: 0.085 | Gen: ethay airway onditiongcay isway orkingway\n",
            "Epoch:  46 | Train loss: 0.021 | Val loss: 0.091 | Gen: ethay airway onditiongcay isway orkingway\n",
            "Epoch:  47 | Train loss: 0.017 | Val loss: 0.088 | Gen: ethay airway onditiongcay isway orkingway\n",
            "Epoch:  48 | Train loss: 0.012 | Val loss: 0.088 | Gen: ethay airway onditiongcay isway orkingway\n",
            "Epoch:  49 | Train loss: 0.058 | Val loss: 0.174 | Gen: ethay airway onditiongcay isway orkingway\n",
            "Epoch:  50 | Train loss: 0.139 | Val loss: 0.154 | Gen: ethay airway onditiongcay isway orkingway\n",
            "Epoch:  51 | Train loss: 0.064 | Val loss: 0.124 | Gen: ethay airway onditiongcay isway orkingway\n",
            "Epoch:  52 | Train loss: 0.038 | Val loss: 0.101 | Gen: ethay airway onditiongcay isway orkingway\n",
            "Epoch:  53 | Train loss: 0.031 | Val loss: 0.077 | Gen: ethay airway onditiongcay isway orkingway\n",
            "Epoch:  54 | Train loss: 0.020 | Val loss: 0.079 | Gen: ethay airway onditiongcay isway orkingway\n",
            "Epoch:  55 | Train loss: 0.015 | Val loss: 0.077 | Gen: ethay airway onditiongcay isway orkingway\n",
            "Epoch:  56 | Train loss: 0.010 | Val loss: 0.077 | Gen: ethay airway onditiongcay isway orkingway\n",
            "Epoch:  57 | Train loss: 0.010 | Val loss: 0.074 | Gen: ethay airway onditiongcay isway orkingway\n",
            "Epoch:  58 | Train loss: 0.007 | Val loss: 0.069 | Gen: ethay airway onditiongcay isway orkingway\n",
            "Epoch:  59 | Train loss: 0.007 | Val loss: 0.083 | Gen: ethay airway onditiongcay isway orkingway\n",
            "Epoch:  60 | Train loss: 0.059 | Val loss: 0.227 | Gen: ethay airway onditingcay isway orkingway\n",
            "Epoch:  61 | Train loss: 0.153 | Val loss: 0.181 | Gen: ethay airway onditiongcay isway orkingway\n",
            "Epoch:  62 | Train loss: 0.106 | Val loss: 0.163 | Gen: ethay airway onditiongcay isway orkingway\n",
            "Epoch:  63 | Train loss: 0.051 | Val loss: 0.098 | Gen: ethay airway onditiongcay isway orkingway\n",
            "Epoch:  64 | Train loss: 0.029 | Val loss: 0.077 | Gen: ethay airway onditiongcay isway orkingway\n",
            "Epoch:  65 | Train loss: 0.020 | Val loss: 0.076 | Gen: ethay airway onditiongcay isway orkingway\n",
            "Epoch:  66 | Train loss: 0.013 | Val loss: 0.061 | Gen: ethay airway onditiongcay isway orkingway\n",
            "Epoch:  67 | Train loss: 0.013 | Val loss: 0.072 | Gen: ethay airway onditiongcay isway orkingway\n",
            "Epoch:  68 | Train loss: 0.009 | Val loss: 0.060 | Gen: ethay airway onditiongcay isway orkingway\n",
            "Epoch:  69 | Train loss: 0.005 | Val loss: 0.064 | Gen: ethay airway onditiongcay isway orkingway\n",
            "Epoch:  70 | Train loss: 0.004 | Val loss: 0.061 | Gen: ethay airway onditiongcay isway orkingway\n",
            "Epoch:  71 | Train loss: 0.003 | Val loss: 0.069 | Gen: ethay airway onditiongcay isway orkingway\n",
            "Epoch:  72 | Train loss: 0.004 | Val loss: 0.059 | Gen: ethay airway onditiongcay isway orkingway\n",
            "Epoch:  73 | Train loss: 0.006 | Val loss: 0.070 | Gen: ethay airway onditiongcay isway orkingway\n",
            "Epoch:  74 | Train loss: 0.008 | Val loss: 0.064 | Gen: ethay airway onditiongcay isway orkingway\n",
            "Epoch:  75 | Train loss: 0.008 | Val loss: 0.078 | Gen: ethay airway onditiongcay isway orkingway\n",
            "Epoch:  76 | Train loss: 0.022 | Val loss: 0.080 | Gen: ethay airway onditiongcay isway orkingway\n",
            "Epoch:  77 | Train loss: 0.130 | Val loss: 0.291 | Gen: ethay airway onditiongcay isway orkkingway\n",
            "Epoch:  78 | Train loss: 0.122 | Val loss: 0.139 | Gen: ethay airway onditiongcay isway orkingway\n",
            "Epoch:  79 | Train loss: 0.045 | Val loss: 0.094 | Gen: ethay airway onditiongcay isway orkingway\n",
            "Epoch:  80 | Train loss: 0.022 | Val loss: 0.094 | Gen: ethay airway onditiongcay isway orkingway\n",
            "Epoch:  81 | Train loss: 0.018 | Val loss: 0.085 | Gen: ethay airway onditiongcay isway orkingway\n",
            "Epoch:  82 | Train loss: 0.011 | Val loss: 0.076 | Gen: ethay airway onditiongcay isway orkingway\n",
            "Epoch:  83 | Train loss: 0.009 | Val loss: 0.115 | Gen: ethay airway onditiongcay isway orkingway\n",
            "Epoch:  84 | Train loss: 0.013 | Val loss: 0.069 | Gen: ethay airway onditioniongcay isway orkingway\n",
            "Epoch:  85 | Train loss: 0.004 | Val loss: 0.080 | Gen: ethay airway onditiongcay isway orkingway\n",
            "Epoch:  86 | Train loss: 0.002 | Val loss: 0.079 | Gen: ethay airway onditiongcay isway orkingway\n",
            "Epoch:  87 | Train loss: 0.002 | Val loss: 0.081 | Gen: ethay airway onditiongcay isway orkingway\n",
            "Epoch:  88 | Train loss: 0.001 | Val loss: 0.080 | Gen: ethay airway onditiongcay isway orkingway\n",
            "Epoch:  89 | Train loss: 0.001 | Val loss: 0.079 | Gen: ethay airway onditiongcay isway orkingway\n",
            "Epoch:  90 | Train loss: 0.001 | Val loss: 0.079 | Gen: ethay airway onditiongcay isway orkingway\n",
            "Epoch:  91 | Train loss: 0.001 | Val loss: 0.079 | Gen: ethay airway onditiongcay isway orkingway\n",
            "Epoch:  92 | Train loss: 0.001 | Val loss: 0.079 | Gen: ethay airway onditiongcay isway orkingway\n",
            "Epoch:  93 | Train loss: 0.001 | Val loss: 0.080 | Gen: ethay airway onditiongcay isway orkingway\n",
            "Epoch:  94 | Train loss: 0.001 | Val loss: 0.080 | Gen: ethay airway onditiongcay isway orkingway\n",
            "Epoch:  95 | Train loss: 0.000 | Val loss: 0.081 | Gen: ethay airway onditiongcay isway orkingway\n",
            "Epoch:  96 | Train loss: 0.000 | Val loss: 0.081 | Gen: ethay airway onditiongcay isway orkingway\n",
            "Epoch:  97 | Train loss: 0.000 | Val loss: 0.082 | Gen: ethay airway onditiongcay isway orkingway\n",
            "Epoch:  98 | Train loss: 0.000 | Val loss: 0.082 | Gen: ethay airway onditiongcay isway orkingway\n",
            "Epoch:  99 | Train loss: 0.000 | Val loss: 0.083 | Gen: ethay airway onditiongcay isway orkingway\n",
            "source:\t\tthe air conditioning is working \n",
            "translated:\tethay airway onditiongcay isway orkingway\n",
            "training time:\t\t773.230749846 seconds\n"
          ],
          "name": "stdout"
        }
      ]
    },
    {
      "metadata": {
        "id": "ULCMHm5ZF7vx",
        "colab_type": "code",
        "outputId": "55515e22-79e0-4265-8098-03acc439c2f5",
        "colab": {
          "base_uri": "https://localhost:8080/",
          "height": 71
        }
      },
      "cell_type": "code",
      "source": [
        "TEST_SENTENCE = 'a i - completely psychological - either argument - shopping challenge - well-mannered high-achieving pseudo-robots'\n",
        "translated = translate_sentence(TEST_SENTENCE, transformer_encoder, transformer_decoder, None, args)\n",
        "print(\"source:\\t\\t{} \\ntranslated:\\t{}\".format(TEST_SENTENCE, translated))"
      ],
      "execution_count": 0,
      "outputs": [
        {
          "output_type": "stream",
          "text": [
            "source:\t\ta i - completely psychological - either argument - shopping challenge - well-mannered high-achieving pseudo-robots \n",
            "translated:\taway iway -- ompletelycay ychologicalpay -- eitherway argumentway -- oppingshay allengechay -- ellway-aneredmay ighhievievinghay eudodobay-otsray\n"
          ],
          "name": "stdout"
        }
      ]
    },
    {
      "metadata": {
        "id": "L-dgXRoZd_rL",
        "colab_type": "code",
        "outputId": "8e70c533-9eb4-4b9f-e8b3-e98ff93bb9a4",
        "colab": {
          "base_uri": "https://localhost:8080/",
          "height": 2230
        }
      },
      "cell_type": "code",
      "source": [
        "# After changing to use non-causal\n",
        "\n",
        "TEST_SENTENCE = 'the air conditioning is working'\n",
        "\n",
        "args = AttrDict()\n",
        "args_dict = {\n",
        "              'cuda':True, \n",
        "              'nepochs':100, \n",
        "              'checkpoint_dir':\"checkpoints\", \n",
        "              'learning_rate':0.005, \n",
        "              'lr_decay':0.99,\n",
        "              'batch_size':64, \n",
        "              'hidden_size':20, \n",
        "              'decoder_type': 'transformer', # options: rnn / rnn_attention / transformer\n",
        "              'num_transformer_layers': 3,\n",
        "}\n",
        "args.update(args_dict)\n",
        "\n",
        "print_opts(args)\n",
        "start = time.time()\n",
        "transformer_encoder, transformer_decoder = train(args)\n",
        "end = time.time()\n",
        "\n",
        "translated = translate_sentence(TEST_SENTENCE, transformer_encoder, transformer_decoder, None, args)\n",
        "print(\"source:\\t\\t{} \\ntranslated:\\t{}\".format(TEST_SENTENCE, translated))\n",
        "print(\"training time:\\t\\t{} seconds\".format(end-start))"
      ],
      "execution_count": 0,
      "outputs": [
        {
          "output_type": "stream",
          "text": [
            "================================================================================\n",
            "                                      Opts                                      \n",
            "--------------------------------------------------------------------------------\n",
            "                            hidden_size: 20                                     \n",
            "                          learning_rate: 0.005                                  \n",
            "                 num_transformer_layers: 3                                      \n",
            "                             batch_size: 64                                     \n",
            "                                nepochs: 100                                    \n",
            "                                   cuda: 1                                      \n",
            "                         checkpoint_dir: checkpoints                            \n",
            "                           decoder_type: transformer                            \n",
            "                               lr_decay: 0.99                                   \n",
            "================================================================================\n",
            "================================================================================\n",
            "                                   Data Stats                                   \n",
            "--------------------------------------------------------------------------------\n",
            "('payment', 'aymentpay')\n",
            "('ordination', 'ordinationway')\n",
            "('amends', 'amendsway')\n",
            "('principally', 'incipallypray')\n",
            "('anybody', 'anybodyway')\n",
            "Num unique word pairs: 6387\n",
            "Vocabulary: ['EOS', '-', 'SOS', 'a', 'c', 'b', 'e', 'd', 'g', 'f', 'i', 'h', 'k', 'j', 'm', 'l', 'o', 'n', 'q', 'p', 's', 'r', 'u', 't', 'w', 'v', 'y', 'x', 'z']\n",
            "Vocab size: 29\n",
            "================================================================================\n",
            "Moved models to GPU!\n",
            "Epoch:   0 | Train loss: 2.201 | Val loss: 1.733 | Gen: ethay aray ontingingedngingingi issay oray\n",
            "Epoch:   1 | Train loss: 1.613 | Val loss: 1.331 | Gen: ethay airay ondindindindindindin isway oray\n",
            "Epoch:   2 | Train loss: 1.207 | Val loss: 1.044 | Gen: ethay airway onsiongitiondititind isway ortingstingsay\n",
            "Epoch:   3 | Train loss: 0.937 | Val loss: 0.835 | Gen: ethay airay onditingindiongcay isway ortingway\n",
            "Epoch:   4 | Train loss: 0.708 | Val loss: 0.695 | Gen: ethay airay onditindondititiongc isway ortingway\n",
            "Epoch:   5 | Train loss: 0.581 | Val loss: 0.570 | Gen: ethay airway onditindinditiondind isway orkingway\n",
            "Epoch:   6 | Train loss: 0.497 | Val loss: 0.572 | Gen: ethay airay ondititiondititiondi isway orkingway\n",
            "Epoch:   7 | Train loss: 0.440 | Val loss: 0.545 | Gen: ethay airway onditionditindiondin isiay orkingway\n",
            "Epoch:   8 | Train loss: 0.381 | Val loss: 0.437 | Gen: ethay airway onditiondiongcay isay orurkingway\n",
            "Epoch:   9 | Train loss: 0.324 | Val loss: 0.412 | Gen: ethay airway ondionitiongcay isay orkingway\n",
            "Epoch:  10 | Train loss: 0.284 | Val loss: 0.372 | Gen: ethay airway onditiongcay isway orkingway\n",
            "Epoch:  11 | Train loss: 0.319 | Val loss: 0.407 | Gen: ethay airway ondiongcay-ionay isay orkingway\n",
            "Epoch:  12 | Train loss: 0.319 | Val loss: 0.371 | Gen: ethay airay onditiongcay isay orkingway\n",
            "Epoch:  13 | Train loss: 0.255 | Val loss: 0.299 | Gen: ethay airway onditingcay isay orkingway\n",
            "Epoch:  14 | Train loss: 0.209 | Val loss: 0.224 | Gen: ethay airway onditingcay isway orkingway\n",
            "Epoch:  15 | Train loss: 0.148 | Val loss: 0.234 | Gen: ethay airay onditiongcay isay orkingway\n",
            "Epoch:  16 | Train loss: 0.125 | Val loss: 0.218 | Gen: ethay airway onditingcay isway orkingway\n",
            "Epoch:  17 | Train loss: 0.114 | Val loss: 0.220 | Gen: ethay airway onditingcay isway orkingway\n",
            "Epoch:  18 | Train loss: 0.177 | Val loss: 0.311 | Gen: ethay airway onditiongcay isay orkingway\n",
            "Epoch:  19 | Train loss: 0.177 | Val loss: 0.268 | Gen: ethay airway onditingcay isway orkingway\n",
            "Epoch:  20 | Train loss: 0.212 | Val loss: 0.218 | Gen: ethay airway onditiningcay isway orkingway\n",
            "Epoch:  21 | Train loss: 0.147 | Val loss: 0.183 | Gen: ethay airway onditiningcay isway orkingway\n",
            "Epoch:  22 | Train loss: 0.104 | Val loss: 0.157 | Gen: ethay airway onditingcay isway orkingway\n",
            "Epoch:  23 | Train loss: 0.094 | Val loss: 0.145 | Gen: ethay airway onditingcay isway orkingway\n",
            "Epoch:  24 | Train loss: 0.110 | Val loss: 0.181 | Gen: ethay airway onditingcay isway orkingway\n",
            "Epoch:  25 | Train loss: 0.085 | Val loss: 0.168 | Gen: ethay airway onditingcay isway orkingway\n",
            "Epoch:  26 | Train loss: 0.089 | Val loss: 0.173 | Gen: ethay airway onditingcay isway orkingway\n",
            "Epoch:  27 | Train loss: 0.107 | Val loss: 0.169 | Gen: ethay airway onditingcay isway orkingway\n",
            "Epoch:  28 | Train loss: 0.111 | Val loss: 0.186 | Gen: ethay airway onditingcay isway orkingway\n",
            "Epoch:  29 | Train loss: 0.148 | Val loss: 0.186 | Gen: ethay airway onditingcay isway orkingway\n",
            "Epoch:  30 | Train loss: 0.077 | Val loss: 0.205 | Gen: ethay airway onditingcay isway orkingway\n",
            "Epoch:  31 | Train loss: 0.073 | Val loss: 0.170 | Gen: ethay airay onditingcay isay orkingway\n",
            "Epoch:  32 | Train loss: 0.079 | Val loss: 0.213 | Gen: ethay airway onditingcay isway orkingway\n",
            "Epoch:  33 | Train loss: 0.243 | Val loss: 0.242 | Gen: ethay airway onditingcay isway orkingway\n",
            "Epoch:  34 | Train loss: 0.168 | Val loss: 0.254 | Gen: ethay away onditingcay isway orkingway\n",
            "Epoch:  35 | Train loss: 0.107 | Val loss: 0.139 | Gen: ethay airway onditingcay isway orkingway\n",
            "Epoch:  36 | Train loss: 0.069 | Val loss: 0.132 | Gen: ethay airway onditingcay isway orkingway\n",
            "Epoch:  37 | Train loss: 0.070 | Val loss: 0.152 | Gen: ethay airway onditingcay isway orkingway\n",
            "Epoch:  38 | Train loss: 0.112 | Val loss: 0.135 | Gen: ethay airway onditingcay isway orkingway\n",
            "Epoch:  39 | Train loss: 0.067 | Val loss: 0.126 | Gen: ethay airway onditingcay isway orkingway\n",
            "Epoch:  40 | Train loss: 0.062 | Val loss: 0.117 | Gen: ethay airway ondititingcay isway orkingway\n",
            "Epoch:  41 | Train loss: 0.041 | Val loss: 0.119 | Gen: ethay airway onditingcay isway orkingway\n",
            "Epoch:  42 | Train loss: 0.052 | Val loss: 0.118 | Gen: ethay airway onditingcay isway orkingway\n",
            "Epoch:  43 | Train loss: 0.050 | Val loss: 0.105 | Gen: ethay airway onditingcay isway orkingway\n",
            "Epoch:  44 | Train loss: 0.034 | Val loss: 0.118 | Gen: ethay airway onditingcay isway orkingway\n",
            "Epoch:  45 | Train loss: 0.144 | Val loss: 0.259 | Gen: ethaythaytthay airway onditiongcay isway orkingway\n",
            "Epoch:  46 | Train loss: 0.096 | Val loss: 0.131 | Gen: ethay airway onditiongcay isway orkingway\n",
            "Epoch:  47 | Train loss: 0.049 | Val loss: 0.118 | Gen: ethay airway onditingcay isway orkingway\n",
            "Epoch:  48 | Train loss: 0.039 | Val loss: 0.108 | Gen: ethay airway onditingcay isway orkingway\n",
            "Epoch:  49 | Train loss: 0.026 | Val loss: 0.098 | Gen: ethay airway onditingcay isway orkingway\n",
            "Epoch:  50 | Train loss: 0.039 | Val loss: 0.150 | Gen: ethay airway onditingcay isway orkingway\n",
            "Epoch:  51 | Train loss: 0.058 | Val loss: 0.138 | Gen: ethay airway onditiningcay isway orkingway\n",
            "Epoch:  52 | Train loss: 0.037 | Val loss: 0.080 | Gen: ethay airway onditingcay isway orkingway\n",
            "Epoch:  53 | Train loss: 0.024 | Val loss: 0.073 | Gen: ethay airway onditingcay isway orkingway\n",
            "Epoch:  54 | Train loss: 0.019 | Val loss: 0.073 | Gen: ethay airway onditingcay isway orkingway\n",
            "Epoch:  55 | Train loss: 0.025 | Val loss: 0.106 | Gen: ethay airway onditiongcay isway orkingway\n",
            "Epoch:  56 | Train loss: 0.032 | Val loss: 0.108 | Gen: ethay airway onditingcay isway orkingway\n",
            "Epoch:  57 | Train loss: 0.019 | Val loss: 0.091 | Gen: ethay airway onditingcay isway orkingway\n",
            "Epoch:  58 | Train loss: 0.046 | Val loss: 0.174 | Gen: ethay airway onditiongcay isway orkingway\n",
            "Epoch:  59 | Train loss: 0.086 | Val loss: 0.143 | Gen: ethay airway onditingcay isway orkingway\n",
            "Epoch:  60 | Train loss: 0.076 | Val loss: 0.101 | Gen: ethay airway onditiongcay isway orkingway\n",
            "Epoch:  61 | Train loss: 0.035 | Val loss: 0.076 | Gen: ethay airway onditingcay isway orkingway\n",
            "Epoch:  62 | Train loss: 0.019 | Val loss: 0.066 | Gen: ethay airway onditiningcay isway orkingway\n",
            "Epoch:  63 | Train loss: 0.019 | Val loss: 0.084 | Gen: ethay airway onditiningcay isway orkingway\n",
            "Epoch:  64 | Train loss: 0.013 | Val loss: 0.077 | Gen: ethay airway onditiningcay isway orkingway\n",
            "Epoch:  65 | Train loss: 0.008 | Val loss: 0.063 | Gen: ethay airway onditingcay isway orkingway\n",
            "Epoch:  66 | Train loss: 0.009 | Val loss: 0.067 | Gen: ethay airway onditiningcay isway orkingway\n",
            "Epoch:  67 | Train loss: 0.015 | Val loss: 0.071 | Gen: ethay airway onditiningcay isway orkingway\n",
            "Epoch:  68 | Train loss: 0.016 | Val loss: 0.118 | Gen: ethay airway onditingcay isway orkingway\n",
            "Epoch:  69 | Train loss: 0.043 | Val loss: 0.195 | Gen: ethay airway onditiningcay isway orkingway\n",
            "Epoch:  70 | Train loss: 0.080 | Val loss: 0.134 | Gen: ethay airway onditingcay isway orkingway\n",
            "Epoch:  71 | Train loss: 0.034 | Val loss: 0.074 | Gen: ethay airway onditiningcay isway orkingway\n",
            "Epoch:  72 | Train loss: 0.013 | Val loss: 0.070 | Gen: ethay airway onditioningcay isway orkingway\n",
            "Epoch:  73 | Train loss: 0.014 | Val loss: 0.091 | Gen: ethay airway onditiningcay isway orkingway\n",
            "Epoch:  74 | Train loss: 0.037 | Val loss: 0.131 | Gen: ethay airway onditieningcay isway orkingway\n",
            "Epoch:  75 | Train loss: 0.033 | Val loss: 0.089 | Gen: ethay airway onditingcay isway orkingway\n",
            "Epoch:  76 | Train loss: 0.029 | Val loss: 0.088 | Gen: ethay airway onditiedingcay isway orkingway\n",
            "Epoch:  77 | Train loss: 0.015 | Val loss: 0.075 | Gen: ethay airway onditingcay isway orkingway\n",
            "Epoch:  78 | Train loss: 0.013 | Val loss: 0.070 | Gen: ethay airway onditiedingcay isway orkingway\n",
            "Epoch:  79 | Train loss: 0.008 | Val loss: 0.064 | Gen: ethay airway onditiongcay isway orkingway\n",
            "Epoch:  80 | Train loss: 0.005 | Val loss: 0.072 | Gen: ethay airway onditiediningcay isway orkingway\n",
            "Epoch:  81 | Train loss: 0.101 | Val loss: 0.373 | Gen: ethay airway ondiningcay isway orkingway\n",
            "Epoch:  82 | Train loss: 0.172 | Val loss: 0.189 | Gen: ethay airway onditiniongcay isway orkingway\n",
            "Epoch:  83 | Train loss: 0.085 | Val loss: 0.122 | Gen: ethay airway onditingcay isway orkingway\n",
            "Epoch:  84 | Train loss: 0.035 | Val loss: 0.087 | Gen: ethay airway onditioningcay isway orkingway\n",
            "Epoch:  85 | Train loss: 0.015 | Val loss: 0.076 | Gen: ethay airway onditiningcay isway orkingway\n",
            "Epoch:  86 | Train loss: 0.009 | Val loss: 0.063 | Gen: ethay airway onditiningcay isway orkingway\n",
            "Epoch:  87 | Train loss: 0.007 | Val loss: 0.063 | Gen: ethay airway onditiningcay isway orkingway\n",
            "Epoch:  88 | Train loss: 0.006 | Val loss: 0.064 | Gen: ethay airway onditiningcay isway orkingway\n",
            "Epoch:  89 | Train loss: 0.007 | Val loss: 0.062 | Gen: ethay airway onditiningcay isway orkingway\n",
            "Epoch:  90 | Train loss: 0.010 | Val loss: 0.067 | Gen: ethay airway onditiningcay isway orkingway\n",
            "Epoch:  91 | Train loss: 0.009 | Val loss: 0.067 | Gen: ethay airway onditiniongcay isway orkingway\n",
            "Epoch:  92 | Train loss: 0.006 | Val loss: 0.064 | Gen: ethay airway onditiningcay isway orkingway\n",
            "Epoch:  93 | Train loss: 0.004 | Val loss: 0.063 | Gen: ethay airway onditiningcay isway orkingway\n",
            "Epoch:  94 | Train loss: 0.004 | Val loss: 0.063 | Gen: ethay airway onditiningcay isway orkingway\n",
            "Epoch:  95 | Train loss: 0.004 | Val loss: 0.063 | Gen: ethay airway onditiningcay isway orkingway\n",
            "Epoch:  96 | Train loss: 0.005 | Val loss: 0.067 | Gen: ethay airway onditiningcay isway orkingway\n",
            "Epoch:  97 | Train loss: 0.006 | Val loss: 0.062 | Gen: ethay airway onditiningcay isway orkingway\n",
            "Epoch:  98 | Train loss: 0.004 | Val loss: 0.063 | Gen: ethay airway onditiningcay isway orkingway\n",
            "Epoch:  99 | Train loss: 0.004 | Val loss: 0.064 | Gen: ethay airway onditiningcay isway orkingway\n",
            "source:\t\tthe air conditioning is working \n",
            "translated:\tethay airway onditiningcay isway orkingway\n",
            "training time:\t\t468.627933979 seconds\n"
          ],
          "name": "stdout"
        }
      ]
    },
    {
      "metadata": {
        "id": "qbfZCByITOI6",
        "colab_type": "text"
      },
      "cell_type": "markdown",
      "source": [
        "# Attention visualization"
      ]
    },
    {
      "metadata": {
        "id": "itCGMv3FdXsn",
        "colab_type": "code",
        "colab": {}
      },
      "cell_type": "code",
      "source": [
        "TEST_WORD_ATTNs = ['cake', 'drink', 'aardvark', 'well-mannered', 'pseudo-code', 'hypothesis-testing']"
      ],
      "execution_count": 0,
      "outputs": []
    },
    {
      "metadata": {
        "id": "xBv4QQuBiU-V",
        "colab_type": "text"
      },
      "cell_type": "markdown",
      "source": [
        "## Visualize RNN attention map"
      ]
    },
    {
      "metadata": {
        "id": "aXvqoQYONMTA",
        "colab_type": "code",
        "outputId": "fd949c71-4c9c-438b-c521-ac3bea2abb60",
        "colab": {
          "base_uri": "https://localhost:8080/",
          "height": 2421
        }
      },
      "cell_type": "code",
      "source": [
        "[visualize_attention(TEST_WORD_ATTN, rnn_attn_encoder, rnn_attn_decoder, None, args) for TEST_WORD_ATTN in TEST_WORD_ATTNs]"
      ],
      "execution_count": 0,
      "outputs": [
        {
          "output_type": "display_data",
          "data": {
            "image/png": "[encoded data removed]",
            "text/plain": [
              "<Figure size 576x396 with 2 Axes>"
            ]
          },
          "metadata": {
            "tags": []
          }
        },
        {
          "output_type": "display_data",
          "data": {
            "image/png": "[encoded data removed]",
            "text/plain": [
              "<Figure size 576x396 with 2 Axes>"
            ]
          },
          "metadata": {
            "tags": []
          }
        },
        {
          "output_type": "display_data",
          "data": {
            "image/png": "[encoded data removed]",
            "text/plain": [
              "<Figure size 576x396 with 2 Axes>"
            ]
          },
          "metadata": {
            "tags": []
          }
        },
        {
          "output_type": "display_data",
          "data": {
            "image/png": "[encoded data removed]",
            "text/plain": [
              "<Figure size 576x396 with 2 Axes>"
            ]
          },
          "metadata": {
            "tags": []
          }
        },
        {
          "output_type": "display_data",
          "data": {
            "image/png": "[encoded data removed]",
            "text/plain": [
              "<Figure size 576x396 with 2 Axes>"
            ]
          },
          "metadata": {
            "tags": []
          }
        },
        {
          "output_type": "display_data",
          "data": {
            "image/png": "[encoded data removed]",
            "text/plain": [
              "<Figure size 576x396 with 2 Axes>"
            ]
          },
          "metadata": {
            "tags": []
          }
        },
        {
          "output_type": "execute_result",
          "data": {
            "text/plain": [
              "['akecay',\n",
              " 'inkdray',\n",
              " 'aardvarkway',\n",
              " 'ellway-anneredmay',\n",
              " 'eudopay-odecat',\n",
              " 'ypothesishay-ettingn']"
            ]
          },
          "metadata": {
            "tags": []
          },
          "execution_count": 30
        }
      ]
    },
    {
      "metadata": {
        "id": "xuOvxfA1NMz3",
        "colab_type": "text"
      },
      "cell_type": "markdown",
      "source": [
        "## Visualize transformer attention maps from all the transformer layers"
      ]
    },
    {
      "metadata": {
        "id": "HSSB4wd8-M7g",
        "colab_type": "code",
        "outputId": "2351ed2e-4b8d-4ccd-e9f7-564fa4b54669",
        "colab": {
          "base_uri": "https://localhost:8080/",
          "height": 7043
        }
      },
      "cell_type": "code",
      "source": [
        "[visualize_attention(TEST_WORD_ATTN, transformer_encoder, transformer_decoder, None, args, ) for TEST_WORD_ATTN in TEST_WORD_ATTNs]"
      ],
      "execution_count": 0,
      "outputs": [
        {
          "output_type": "display_data",
          "data": {
            "image/png": "[encoded data removed]",
            "text/plain": [
              "<Figure size 576x396 with 2 Axes>"
            ]
          },
          "metadata": {
            "tags": []
          }
        },
        {
          "output_type": "display_data",
          "data": {
            "image/png": "[encoded data removed]",
            "text/plain": [
              "<Figure size 576x396 with 2 Axes>"
            ]
          },
          "metadata": {
            "tags": []
          }
        },
        {
          "output_type": "display_data",
          "data": {
            "image/png": "[encoded data removed]",
            "text/plain": [
              "<Figure size 576x396 with 2 Axes>"
            ]
          },
          "metadata": {
            "tags": []
          }
        },
        {
          "output_type": "display_data",
          "data": {
            "image/png": "[encoded data removed]",
            "text/plain": [
              "<Figure size 576x396 with 2 Axes>"
            ]
          },
          "metadata": {
            "tags": []
          }
        },
        {
          "output_type": "display_data",
          "data": {
            "image/png": "[encoded data removed]",
            "text/plain": [
              "<Figure size 576x396 with 2 Axes>"
            ]
          },
          "metadata": {
            "tags": []
          }
        },
        {
          "output_type": "display_data",
          "data": {
            "image/png": "[encoded data removed]",
            "text/plain": [
              "<Figure size 576x396 with 2 Axes>"
            ]
          },
          "metadata": {
            "tags": []
          }
        },
        {
          "output_type": "display_data",
          "data": {
            "image/png": "[encoded data removed]",
            "text/plain": [
              "<Figure size 576x396 with 2 Axes>"
            ]
          },
          "metadata": {
            "tags": []
          }
        },
        {
          "output_type": "display_data",
          "data": {
            "image/png": "[encoded data removed]",
            "text/plain": [
              "<Figure size 576x396 with 2 Axes>"
            ]
          },
          "metadata": {
            "tags": []
          }
        },
        {
          "output_type": "display_data",
          "data": {
            "image/png": "[encoded data removed]",
            "text/plain": [
              "<Figure size 576x396 with 2 Axes>"
            ]
          },
          "metadata": {
            "tags": []
          }
        },
        {
          "output_type": "display_data",
          "data": {
            "image/png": "[encoded data removed]",
            "text/plain": [
              "<Figure size 576x396 with 2 Axes>"
            ]
          },
          "metadata": {
            "tags": []
          }
        },
        {
          "output_type": "display_data",
          "data": {
            "image/png": "[encoded data removed]",
            "text/plain": [
              "<Figure size 576x396 with 2 Axes>"
            ]
          },
          "metadata": {
            "tags": []
          }
        },
        {
          "output_type": "display_data",
          "data": {
            "image/png": "[encoded data removed]",
            "text/plain": [
              "<Figure size 576x396 with 2 Axes>"
            ]
          },
          "metadata": {
            "tags": []
          }
        },
        {
          "output_type": "display_data",
          "data": {
            "image/png": "[encoded data removed]",
            "text/plain": [
              "<Figure size 576x396 with 2 Axes>"
            ]
          },
          "metadata": {
            "tags": []
          }
        },
        {
          "output_type": "display_data",
          "data": {
            "image/png": "[encoded data removed]",
            "text/plain": [
              "<Figure size 576x396 with 2 Axes>"
            ]
          },
          "metadata": {
            "tags": []
          }
        },
        {
          "output_type": "display_data",
          "data": {
            "image/png": "[encoded data removed]",
            "text/plain": [
              "<Figure size 576x396 with 2 Axes>"
            ]
          },
          "metadata": {
            "tags": []
          }
        },
        {
          "output_type": "display_data",
          "data": {
            "image/png": "[encoded data removed]",
            "text/plain": [
              "<Figure size 576x396 with 2 Axes>"
            ]
          },
          "metadata": {
            "tags": []
          }
        },
        {
          "output_type": "display_data",
          "data": {
            "image/png": "[encoded data removed]",
            "text/plain": [
              "<Figure size 576x396 with 2 Axes>"
            ]
          },
          "metadata": {
            "tags": []
          }
        },
        {
          "output_type": "display_data",
          "data": {
            "image/png": "[encoded data removed]",
            "text/plain": [
              "<Figure size 576x396 with 2 Axes>"
            ]
          },
          "metadata": {
            "tags": []
          }
        },
        {
          "output_type": "execute_result",
          "data": {
            "text/plain": [
              "['akecay',\n",
              " 'inkdray',\n",
              " 'awrddvarkway',\n",
              " 'ellway-aneredmay',\n",
              " 'eudoudecay-ay',\n",
              " 'ypothesishestistay']"
            ]
          },
          "metadata": {
            "tags": []
          },
          "execution_count": 31
        }
      ]
    }
  ]
}